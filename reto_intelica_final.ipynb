{
 "cells": [
  {
   "cell_type": "markdown",
   "id": "84a4b3e8",
   "metadata": {},
   "source": [
    "# Reto Intelica"
   ]
  },
  {
   "cell_type": "code",
   "execution_count": 68,
   "id": "97dd9005",
   "metadata": {},
   "outputs": [],
   "source": [
    "import numpy as np\n",
    "import pandas as pd\n",
    "import matplotlib.pyplot as plt\n",
    "from sklearn.preprocessing import MinMaxScaler\n",
    "from sklearn.ensemble import RandomForestClassifier\n",
    "from sklearn.model_selection import train_test_split\n",
    "from sklearn.metrics import classification_report\n",
    "from gtda.homology import VietorisRipsPersistence\n",
    "from gtda.plotting import plot_diagram\n",
    "from gtda.mapper import (\n",
    "    make_mapper_pipeline,\n",
    "    Projection,\n",
    "    plot_static_mapper_graph\n",
    ")\n",
    "from sklearn.cluster import DBSCAN\n",
    "from imblearn.over_sampling import SMOTE\n",
    "import networkx as nx\n",
    "# np.random.seed(42)\n",
    "plt.style.use('ggplot')\n",
    "import kmapper as km"
   ]
  },
  {
   "cell_type": "markdown",
   "id": "84f69283",
   "metadata": {},
   "source": [
    "# Clase"
   ]
  },
  {
   "cell_type": "markdown",
   "id": "8c01a4a0",
   "metadata": {},
   "source": [
    "### Clase de datos agrícolas"
   ]
  },
  {
   "cell_type": "code",
   "execution_count": 69,
   "id": "a8ca3f0b",
   "metadata": {},
   "outputs": [],
   "source": [
    "class DatosAgricolas:\n",
    "    \"\"\"\n",
    "    Simulación de datos para productos agrícolas perecederos\n",
    "    con eventos de mercado, comportamientos de brokers y variables climáticas.\n",
    "    \"\"\"\n",
    "    def __init__(self, params, n_dias=1000, factor=1000):\n",
    "        self.n_dias = n_dias\n",
    "        self.fechas = pd.date_range(start=\"2025-01-01\", periods=n_dias, freq='D')\n",
    "        self.df = None\n",
    "        self.eventos = None\n",
    "        # frambuesa data\n",
    "        self.m_precio_frambuesa = params['precio_frambuesa']/factor\n",
    "        self.m_precio_frambuesa_var = params['precio_frambuesa_var']/factor\n",
    "        self.m_volumen_frambuesa = params['volumen_frambuesa']/factor\n",
    "        self.m_volumen_frambuesa_var = params['volumen_frambuesa_var']/factor\n",
    "        # aguacate data\n",
    "        self.m_precio_aguacate = params['precio_aguacate']/factor\n",
    "        self.m_precio_aguacate_var = params['precio_aguacate_var']/factor\n",
    "        self.m_volumen_aguacate = params['volumen_aguacate']/factor\n",
    "        self.m_volumen_aguacate_var = params['volumen_aguacate_var']/factor\n",
    "        # chile data\n",
    "        self.m_precio_chile = params['precio_chile']/factor\n",
    "        self.m_precio_chile_var = params['precio_chile_var']/factor\n",
    "        self.m_volumen_chile = params['volumen_chile']/factor\n",
    "        self.m_volumen_chile_var = params['volumen_chile_var']/factor\n",
    "\n",
    "       \n",
    "    def generar_base(self):\n",
    "        \"\"\"\n",
    "        Genera datos base para los productos\n",
    "        \"\"\"\n",
    "        # precios base con tendencias estacionales\n",
    "        tiempo = np.linspace(0, 10, self.n_dias)\n",
    "        estacionalidad = np.sin(2 * np.pi * tiempo / 365) * 0.2\n",
    "\n",
    "        # variables climáticas, que cambiarán la calidad de la fruta\n",
    "        temperatura = 25 + 10 * np.sin(2 * np.pi * tiempo / 365) + np.random.normal(0, 3)\n",
    "        humedad = 60 + 20 * np.sin(2 * np.pi * tiempo / 365 + np.pi/2) + np.random.normal(0, 5)\n",
    "        \n",
    "        # frambuesa - producto altamente perecedero\n",
    "        # aqui hice el cambio para que no haya ruido y solo un cambio estacional simulado con una funcion sin(x)\n",
    "        # COMMENT: precio_frambuesa = np.exp(np.random.normal(self.m_precio_frambuesa + estacionalidad, self.m_precio_frambuesa_var, size=self.n_dias))\n",
    "        precio_frambuesa  = 0.5 * np.sin(tiempo*2*np.pi) # self.m_precio_frambuesa * np.sin(tiempo*2*np.pi) # np.exp(np.random.normal(self.m_precio_frambuesa + estacionalidad, self.m_precio_frambuesa_var, size=self.n_dias))\n",
    "        volumen_frambuesa = np.random.normal(self.m_volumen_frambuesa, self.m_volumen_frambuesa_var, size=self.n_dias) + np.random.normal(0, 50) * estacionalidad\n",
    "        calidad_frambuesa = np.clip(0.9 - 0.005*(temperatura-25)**2 - 0.002*(humedad-70)**2 + np.random.normal(0, 0.05), 0.5, 1.0)\n",
    "\n",
    "        # aguacate - menos perecedero\n",
    "        precio_aguacate = np.exp(np.random.normal(self.m_precio_aguacate + estacionalidad*0.5, self.m_precio_aguacate_var, size=self.n_dias))\n",
    "        volumen_aguacate = np.random.normal(self.m_volumen_aguacate, self.m_volumen_aguacate_var, size=self.n_dias) - np.random.normal(0, 70) * estacionalidad\n",
    "        calidad_aguacate = np.clip(0.95 - 0.003*(temperatura-22)**2 + np.random.normal(0, 0.03), 0.7, 1.0)\n",
    "        \n",
    "        # chile seco - producto estable\n",
    "        precio_chile = np.exp(np.random.normal(self.m_precio_chile + estacionalidad*0.001, self.m_precio_chile_var, size=self.n_dias))\n",
    "        volumen_chile = np.random.normal(self.m_volumen_chile, self.m_volumen_chile_var, size=self.n_dias)\n",
    "        calidad_chile = np.clip(0.85 - 0.001*(humedad-50)**2 + np.random.normal(0, 0.04), 0.6, 1.0)\n",
    "                \n",
    "        # datos sin modificaciones de brokers\n",
    "        datos = {\n",
    "            'fecha': self.fechas,\n",
    "            'precio_frambuesa': precio_frambuesa,\n",
    "            'volumen_frambuesa': volumen_frambuesa,\n",
    "            'calidad_frambuesa': calidad_frambuesa,\n",
    "            'precio_aguacate': precio_aguacate,\n",
    "            'volumen_aguacate': volumen_aguacate,\n",
    "            'calidad_aguacate': calidad_aguacate,\n",
    "            'precio_chile': precio_chile,\n",
    "            'volumen_chile': volumen_chile,\n",
    "            'calidad_chile': calidad_chile,\n",
    "            'temperatura': temperatura,\n",
    "            'humedad': humedad,\n",
    "        }\n",
    "        \n",
    "        return pd.DataFrame(datos)\n",
    "    \n",
    "    def agregar_eventos_mercado(self, df, interesting):\n",
    "        \"\"\"\n",
    "        Agrega eventos de mercado simulados\n",
    "        \"\"\"\n",
    "        eventos = np.zeros(self.n_dias)\n",
    "\n",
    "        if not interesting:\n",
    "            return df, eventos\n",
    "        \n",
    "        # frambuesa (perecedero)\n",
    "        for i in range(130, 170, 5): # for i in range(100, self.n_dias, 180):\n",
    "            duracion = np.random.randint(5, 15)\n",
    "            intensidad = np.random.uniform(0.4, 0.7)\n",
    "            \n",
    "            # COMMENT:                         variar este |\n",
    "            df.loc[i:i+duracion, 'precio_frambuesa'] *= -(1 + 0.5*intensidad) if np.random.uniform() < 0.3 else 1\n",
    "            df.loc[i:i+duracion, 'precio_frambuesa'] -= 3.5*intensidad\n",
    "            df.loc[i:i+duracion, 'volumen_frambuesa'] *= np.random.uniform(1.2, 1.8)\n",
    "            eventos[i:i+duracion] = 1  # Evento tipo 1: sobreoferta\n",
    "            \n",
    "        # aguacate (especulación)\n",
    "        for i in range(150, self.n_dias, 220):\n",
    "            duracion = np.random.randint(10, 20)\n",
    "            intensidad = np.random.uniform(1.3, 1.8)\n",
    "            \n",
    "            df.loc[i:i+duracion, 'precio_aguacate'] *= intensidad\n",
    "            df.loc[i:i+duracion, 'volumen_aguacate'] *= np.random.uniform(0.6, 0.9)\n",
    "            eventos[i:i+duracion] = 0  # Evento tipo 2: especulación\n",
    "            \n",
    "        # climáticos extremos\n",
    "        for i in range(200, self.n_dias, 300):\n",
    "            duracion = np.random.randint(7, 14)\n",
    "            \n",
    "            df.loc[i:i+duracion, 'temperatura'] += np.random.uniform(5, 10)\n",
    "            df.loc[i:i+duracion, 'humedad'] -= np.random.uniform(15, 25)\n",
    "            eventos[i:i+duracion] = 0  # Evento tipo 3: clima extremo\n",
    "            \n",
    "        return df, eventos\n",
    "    \n",
    "    def simular_comportamiento_brokers(self, df):\n",
    "        \"\"\"\n",
    "        Simula el comportamiento estratégico de brokers\n",
    "        \"\"\"\n",
    "        # estrategias de brokers basadas en condiciones de mercado\n",
    "        df['estrategia_broker'] = 'neutral'\n",
    "        \n",
    "        # identificar condiciones para diferentes estrategias\n",
    "        mask_sobreoferta = (df['precio_frambuesa'].pct_change(5) < -0.15)\n",
    "        mask_especulacion = (df['precio_frambuesa'].pct_change(5) > 0.2)\n",
    "        mask_clima_extremo = (df['temperatura'] > 32) | (df['humedad'] < 40)\n",
    "        \n",
    "        df.loc[mask_sobreoferta, 'estrategia_broker'] = 'liquidacion'\n",
    "        df.loc[mask_especulacion, 'estrategia_broker'] = 'acaparamiento'\n",
    "        df.loc[mask_clima_extremo, 'estrategia_broker'] = 'precaucion'\n",
    "        \n",
    "        return df\n",
    "    \n",
    "    def generar_datos(self, interesting):\n",
    "        \"\"\"\n",
    "        Genera el conjunto completo de datos simulados\n",
    "        \"\"\"\n",
    "        df = self.generar_base()\n",
    "        df, _ = self.agregar_eventos_mercado(df, interesting)\n",
    "        df = self.simular_comportamiento_brokers(df)\n",
    "        \n",
    "        # agregar elasticidad cruzada simulada\n",
    "        df['precio_fresa'] = df['precio_frambuesa'] * np.random.uniform(0.8, 1.2)\n",
    "        df.loc[df['precio_frambuesa'] > df['precio_frambuesa'].quantile(0.8), 'precio_fresa'] *= 1.1\n",
    "        \n",
    "        self.df = df\n",
    "\n",
    "        return df"
   ]
  },
  {
   "cell_type": "markdown",
   "id": "4b5b3873",
   "metadata": {},
   "source": [
    "### Clase Brokers"
   ]
  },
  {
   "cell_type": "code",
   "execution_count": 70,
   "id": "5cb9aa4d",
   "metadata": {},
   "outputs": [],
   "source": [
    "class SimularBrokers:\n",
    "    \"\"\"\n",
    "    clase para brokers: TODO: documentar\n",
    "    \"\"\"\n",
    "    def __init__(self, df, n_brokers = 2):\n",
    "        '''\n",
    "        todo: Documentar\n",
    "        '''\n",
    "        self.m_datos = df\n",
    "        self.m_n_brokers = n_brokers\n",
    "\n",
    "    def red_brokers(self, df):\n",
    "        '''\n",
    "        TODO: documentar\n",
    "        '''\n",
    "        # red de brokers\n",
    "        brokers = [f'broker_{i}' for i in range(1, self.m_n_brokers+1)]\n",
    "        grafica = nx.Graph()\n",
    "        grafica.add_nodes_from(brokers)\n",
    "        \n",
    "        # conexiones basadas en estrategias\n",
    "        for _, row in df.iterrows():\n",
    "            if row['estrategia_broker'] != 'neutral':\n",
    "                broker1, broker2 = np.random.choice(brokers, 2, replace=False)\n",
    "                if grafica.has_edge(broker1, broker2):\n",
    "                    grafica[broker1][broker2]['weight'] += 1\n",
    "                else:\n",
    "                    grafica.add_edge(broker1, broker2, weight=1)\n",
    "            \n",
    "        return grafica\n",
    "    \n",
    "    def plot_brokers(self, grafica):\n",
    "        '''\n",
    "        TODO: documentar\n",
    "        '''\n",
    "        pos = nx.spring_layout(grafica)\n",
    "        nx.draw_networkx_nodes(grafica, pos, node_size=200, node_color='lightblue')\n",
    "        nx.draw_networkx_edges(grafica, pos, width=1.0, alpha=0.5)\n",
    "        nx.draw_networkx_labels(grafica, pos, font_size=8)\n",
    "        plt.title(\"Red de Brokers\")\n",
    "        plt.show()\n",
    "        # plt.savefig('red_brokers.png')\n",
    "        plt.close()"
   ]
  },
  {
   "cell_type": "markdown",
   "id": "ce50551f",
   "metadata": {},
   "source": [
    "### Clase análisis TDA"
   ]
  },
  {
   "cell_type": "code",
   "execution_count": 71,
   "id": "7501f863",
   "metadata": {},
   "outputs": [],
   "source": [
    "from gtda.diagrams import PersistenceEntropy, Scaler, Amplitude, PairwiseDistance\n",
    "from gtda.homology import VietorisRipsPersistence\n",
    "from gtda.metaestimators import CollectionTransformer\n",
    "from gtda.pipeline import Pipeline\n",
    "from gtda.time_series import TakensEmbedding, SingleTakensEmbedding\n",
    "from gtda.time_series import SlidingWindow\n",
    "from sklearn.decomposition import PCA\n",
    "import sys\n",
    "\n",
    "\n",
    "from gtda.mapper import (\n",
    "make_mapper_pipeline,\n",
    "Projection,\n",
    "plot_static_mapper_graph,\n",
    "cover, CubicalCover)\n",
    "\n",
    "class AnalisisTDA:\n",
    "    \"\"\"\n",
    "    Analisis topologico\n",
    "    \"\"\"\n",
    "    def __init__(self, embedding_type = \"TK\", only_x = True, univariate = False, option_uni = None, persistence_var_type = 'entropy'):\n",
    "        self.m_embedder   = embedding_type\n",
    "        self.m_only_x = only_x\n",
    "        self.m_univariate = univariate\n",
    "        self.m_option_uni = option_uni\n",
    "        self.m_persistence_var_type = persistence_var_type\n",
    "\n",
    "        \n",
    "    def homologia_persistente(self, x_datos, y_datos=None, embedding_dimension = 2, embedding_time_delay = 1, window_size = 100,  stride = 4):\n",
    "        \"\"\"\n",
    "        homologia persistente usando Vietoris-Rips. TODO: documentar\n",
    "        \"\"\"\n",
    "        if self.m_embedder == \"TK\" or (self.m_univariate and self.m_option_uni==1):\n",
    "            embedder = TakensEmbedding(time_delay=embedding_time_delay, dimension=embedding_dimension, stride=stride)            \n",
    "        elif self.m_embedder == \"STK\" or (self.m_univariate and self.m_option_uni==2):\n",
    "            embedder = SingleTakensEmbedding(time_delay=embedding_time_delay, dimension=embedding_dimension, stride=stride)\n",
    "        elif self.m_embedder == \"SW\":\n",
    "            embedder = SlidingWindow(size = embedding_dimension, stride=stride)\n",
    "        else:\n",
    "            sys.exit(\"Embedder no disponible!\")\n",
    "\n",
    "        persistence = VietorisRipsPersistence(homology_dimensions=[0, 1, 2], n_jobs=-1)\n",
    "        scaling = Scaler()\n",
    "        entropy = PersistenceEntropy(normalize=True, nan_fill_value=-10)\n",
    "        amplitude = Amplitude()\n",
    "\n",
    "        if self.m_univariate: # one dimensional\n",
    "            sw = SlidingWindow(size=window_size, stride=stride)\n",
    "            if self.m_option_uni == 1:   # Option 1: SlidingWindow + TakensEmbedding\n",
    "                steps_1 = [(\"sw\", sw), (\"embedder\", embedder), (\"persistence\", persistence)]\n",
    "            elif self.m_option_uni == 2: # Option 2: SingleTakensEmbedding + SlidingWindow\n",
    "                steps_1 = [(\"embedder\", embedder), (\"sw\", sw), (\"persistence\", persistence)]\n",
    "                \n",
    "        else: # multidimensional or many signals\n",
    " \n",
    "            pca = CollectionTransformer(PCA(n_components=3), n_jobs=-1)\n",
    "            steps_1 = [(\"embedder\", embedder), (\"PCA\", pca), (\"persistence\", persistence)]\n",
    "\n",
    "\n",
    "        \n",
    "        if self.m_persistence_var_type == 'entropy':   # Option 1:'entropy'\n",
    "            steps_2 = [(\"scaling\", scaling), (\"entropy\", entropy)]\n",
    "        else:  # Option 2: 'amplitude'\n",
    "            steps_2 = [(\"scaling\", scaling), (\"amplitude\", amplitude)]\n",
    "\n",
    "\n",
    "        topological_transfomer_1 = Pipeline(steps_1)\n",
    "        topological_transfomer_2 = Pipeline(steps_2)\n",
    "\n",
    "        if self.m_option_uni==2:\n",
    "            pca = PCA(n_components=2)\n",
    "            steps_v = [(\"embedder\", embedder), (\"PCA\", pca)]\n",
    "            plot_cloud = Pipeline(steps_v).fit_transform(x_datos)\n",
    "            \n",
    "\n",
    "        if self.m_only_x:\n",
    "                diagramas = topological_transfomer_1.fit_transform(x_datos)\n",
    "                trans_features = topological_transfomer_2.fit_transform(diagramas)\n",
    "\n",
    "        if not self.m_univariate:\n",
    "            return trans_features\n",
    "\n",
    "        if self.m_option_uni==1:\n",
    "            return  diagramas[0],trans_features # , labels\n",
    "        elif self.m_option_uni==2:\n",
    "            return  diagramas[0],trans_features,plot_cloud\n",
    "    \n",
    "    \n",
    "    def mapper_algorithm(self, datos, n_cubiertas=15, overlap=0.3):\n",
    "        \"\"\"\n",
    "        usar el algoritmo mapper. TODO: documentar \n",
    "        \"\"\"\n",
    "        # configurar algoritmo mapper\n",
    "        mapper_algoritmo = make_mapper_pipeline(\n",
    "            # projection=Projection(columns=list(range(datos.shape[1]))),\n",
    "            clusterer=DBSCAN(eps=0.3, min_samples=5),\n",
    "            cover_n_cubes=n_cubiertas,\n",
    "            cover_perc_overlap=overlap,\n",
    "            scaler=MinMaxScaler()\n",
    "        )\n",
    "        \n",
    "        # aplicar mapper\n",
    "        fig = plot_static_mapper_graph(\n",
    "            mapper_algoritmo,\n",
    "            datos,\n",
    "            color_by_columns_dropdown=True,\n",
    "            node_color_statistic=np.mean\n",
    "        )\n",
    "        \n",
    "        return fig\n",
    "    \n",
    "    def diagrama_grafo_broker(self, grafica):\n",
    "        '''\n",
    "        documentar y revisar la robustes ante division entre cero\n",
    "        '''\n",
    "\n",
    "        adj_matrix = nx.to_numpy_array(grafica, weight='weight')\n",
    "        distance_matrix = 1 / adj_matrix\n",
    "        distance_matrix[np.isinf(distance_matrix)] = 0\n",
    "        vr = VietorisRipsPersistence(metric='precomputed', homology_dimensions=[0, 1, 2])\n",
    "        return vr.fit_transform(distance_matrix[None, :, :])\n",
    "\n",
    "    def diagrama_grafo_mapper(self, grafica):\n",
    "        '''\n",
    "        documentar y revisar la robustes ante division entre cero\n",
    "        '''\n",
    "        adj_matrix = nx.to_numpy_array(grafica)\n",
    "        distance_matrix = 1 / adj_matrix\n",
    "        distance_matrix[np.isinf(distance_matrix)] = 0\n",
    "        vr = VietorisRipsPersistence(metric='precomputed', homology_dimensions=[0, 1, 2])\n",
    "        return vr.fit_transform(distance_matrix[None, :, :])\n",
    "\n",
    "\n",
    "    def distancia_dos_diagramas(self, diagrama1, diagrama2, metrica=\"wasserstein\"):\n",
    "        '''\n",
    "        documentar\n",
    "        '''\n",
    "        distance = PairwiseDistance(metric=metrica)\n",
    "        return distance.fit_transform([np.array(diagrama1), np.array(diagrama2)])[0, 1]\n",
    "\n"
   ]
  },
  {
   "cell_type": "markdown",
   "id": "f5651f59",
   "metadata": {},
   "source": [
    "# Serie de tiempo simulada"
   ]
  },
  {
   "cell_type": "code",
   "execution_count": 72,
   "id": "9f79bc59",
   "metadata": {},
   "outputs": [],
   "source": [
    "params = {\n",
    "    'precio_frambuesa': 70745,\n",
    "    'precio_frambuesa_var':2122,\n",
    "    'volumen_frambuesa':190000,\n",
    "    'volumen_frambuesa_var':11400,\n",
    "\n",
    "    'precio_aguacate':20212,\n",
    "    'precio_aguacate_var':3840,\n",
    "    'volumen_aguacate':2973000,\n",
    "    'volumen_aguacate_var':505000,\n",
    "\n",
    "    'precio_chile':22490,\n",
    "    'precio_chile_var':787,\n",
    "    'volumen_chile': 3681000,\n",
    "    'volumen_chile_var':662580\n",
    "}"
   ]
  },
  {
   "cell_type": "code",
   "execution_count": 73,
   "id": "14e413d9",
   "metadata": {},
   "outputs": [],
   "source": [
    "df_not_interesting = DatosAgricolas(params,  n_dias=365).generar_datos(False)\n",
    "df_interesting = DatosAgricolas(params,  n_dias=365).generar_datos(True)"
   ]
  },
  {
   "cell_type": "code",
   "execution_count": 74,
   "id": "1d292b48",
   "metadata": {},
   "outputs": [
    {
     "data": {
      "image/png": "[encoded data removed]",
      "text/plain": [
       "<Figure size 1200x600 with 1 Axes>"
      ]
     },
     "metadata": {},
     "output_type": "display_data"
    }
   ],
   "source": [
    "plt.figure(figsize=(12, 6))\n",
    "plt.plot(df_not_interesting['fecha'], df_not_interesting['precio_frambuesa'], label='Frambuesa (No)')\n",
    "plt.plot(df_interesting['fecha'], df_interesting['precio_frambuesa'], label='Frambuesa (Int)', alpha = 0.5)\n",
    "plt.title('Precios')\n",
    "plt.xlabel('Fecha')\n",
    "plt.ylabel('Precio MXN')\n",
    "#plt.yscale(\"log\")\n",
    "plt.legend()\n",
    "#plt.grid(True)\n",
    "plt.show()"
   ]
  },
  {
   "cell_type": "markdown",
   "id": "d60c99c6",
   "metadata": {},
   "source": [
    "### EDA: "
   ]
  },
  {
   "cell_type": "code",
   "execution_count": 75,
   "id": "576d8ae0",
   "metadata": {},
   "outputs": [
    {
     "data": {
      "application/vnd.plotly.v1+json": {
       "config": {
        "plotlyServerURL": "https://plot.ly"
       },
       "data": [
        {
         "hoverinfo": "none",
         "line": {
          "color": "black",
          "dash": "dash",
          "width": 1
         },
         "mode": "lines",
         "showlegend": false,
         "type": "scatter",
         "x": [
          -0.09121730804443359,
          4.6520827102661135
         ],
         "y": [
          -0.09121730804443359,
          4.6520827102661135
         ]
        },
        {
         "hoverinfo": "text",
         "hovertext": [
          "(0.0, 0.012346561998128891)",
          "(0.0, 0.012546251527965069), multiplicity: 2",
          "(0.0, 0.012546251527965069), multiplicity: 2",
          "(0.0, 0.012796827591955662)",
          "(0.0, 0.015122733078897)",
          "(0.0, 0.015604826621711254)",
          "(0.0, 0.01870754174888134)",
          "(0.0, 0.01923162117600441), multiplicity: 2",
          "(0.0, 0.01923162117600441), multiplicity: 2",
          "(0.0, 0.019751088693737984)",
          "(0.0, 0.022668231278657913)",
          "(0.0, 0.02310686744749546)",
          "(0.0, 0.02417778968811035), multiplicity: 2",
          "(0.0, 0.02417778968811035), multiplicity: 2",
          "(0.0, 0.024296006187796593)",
          "(0.0, 0.02453017048537731)",
          "(0.0, 0.02534765750169754)",
          "(0.0, 0.025647826492786407), multiplicity: 2",
          "(0.0, 0.025647826492786407), multiplicity: 2",
          "(0.0, 0.025876028463244438)",
          "(0.0, 0.02592514641582966)",
          "(0.0, 0.026514194905757904), multiplicity: 2",
          "(0.0, 0.026514194905757904), multiplicity: 2",
          "(0.0, 0.027080921456217766)",
          "(0.0, 0.027185294777154922)",
          "(0.0, 0.027232374995946884), multiplicity: 2",
          "(0.0, 0.027232374995946884), multiplicity: 2",
          "(0.0, 0.028021132573485374), multiplicity: 2",
          "(0.0, 0.028021132573485374), multiplicity: 2",
          "(0.0, 0.028871091082692146)",
          "(0.0, 0.029773138463497162)",
          "(0.0, 0.031699247658252716)",
          "(0.0, 0.03270750492811203)",
          "(0.0, 0.03373629227280617), multiplicity: 2",
          "(0.0, 0.03373629227280617), multiplicity: 2",
          "(0.0, 0.03477910906076431), multiplicity: 2",
          "(0.0, 0.03477910906076431), multiplicity: 2",
          "(0.0, 0.035829976201057434)",
          "(0.0, 0.036883413791656494)",
          "(0.0, 0.04001094773411751)",
          "(0.0, 0.041028402745723724), multiplicity: 2",
          "(0.0, 0.041028402745723724), multiplicity: 2",
          "(0.0, 0.04202710837125778), multiplicity: 2",
          "(0.0, 0.04202710837125778), multiplicity: 2",
          "(0.0, 0.04300377890467644), multiplicity: 2",
          "(0.0, 0.04300377890467644), multiplicity: 2",
          "(0.0, 0.043955378234386444)",
          "(0.0, 0.04487910866737366)",
          "(0.0, 0.04663282260298729)",
          "(0.0, 0.047458212822675705)",
          "(0.0, 0.04824652150273323), multiplicity: 2",
          "(0.0, 0.04824652150273323), multiplicity: 2",
          "(0.0, 0.04899587109684944), multiplicity: 2",
          "(0.0, 0.04899587109684944), multiplicity: 2",
          "(0.0, 0.049704525619745255)",
          "(0.0, 0.04972219094634056)",
          "(0.0, 0.050370894372463226)",
          "(0.0, 0.05210234597325325)",
          "(0.0, 0.05258623883128166), multiplicity: 2",
          "(0.0, 0.05258623883128166), multiplicity: 2",
          "(0.0, 0.05302177742123604), multiplicity: 2",
          "(0.0, 0.05302177742123604), multiplicity: 2",
          "(0.0, 0.05340809002518654), multiplicity: 2",
          "(0.0, 0.05340809002518654), multiplicity: 2",
          "(0.0, 0.05374441295862198)",
          "(0.0, 0.054030098021030426)",
          "(0.0, 0.05444743111729622)",
          "(0.0, 0.05457828566431999)",
          "(0.0, 0.05465689301490784)",
          "(0.0, 0.05468311533331871)",
          "(0.0, 0.061400558799505234)",
          "(0.0, 0.07450921088457108)",
          "(0.0, 0.0758235827088356)",
          "(0.0, 0.09149022400379181)",
          "(0.0, 0.09200936555862427)",
          "(0.0, 0.1019262745976448)",
          "(0.0, 0.11362241208553314)",
          "(0.0, 0.137099027633667)",
          "(0.0, 0.152737557888031)",
          "(0.0, 0.162535160779953)",
          "(0.0, 0.18314513564109802)",
          "(0.0, 0.23147724568843842)",
          "(0.0, 0.9527149200439453)",
          "(0.0, 1.2407190799713135)",
          "(0.0, 1.5656745433807373)",
          "(0.0, 1.6537388563156128)",
          "(0.0, 1.6678125858306885)",
          "(0.0, 1.7417383193969727)",
          "(0.0, 1.7744238376617432)",
          "(0.0, 1.8726754188537598)",
          "(0.0, 1.9659186601638794)",
          "(0.0, 2.1131882667541504)",
          "(0.0, 2.1265790462493896)",
          "(0.0, 2.213545083999634)",
          "(0.0, 2.2300214767456055)",
          "(0.0, 2.6756081581115723)",
          "(0.0, 3.095689296722412)",
          "(0.0, 3.1628668308258057)",
          "(0.0, 3.4948525428771973)"
         ],
         "mode": "markers",
         "name": "H0",
         "type": "scatter",
         "x": [
          0,
          0,
          0,
          0,
          0,
          0,
          0,
          0,
          0,
          0,
          0,
          0,
          0,
          0,
          0,
          0,
          0,
          0,
          0,
          0,
          0,
          0,
          0,
          0,
          0,
          0,
          0,
          0,
          0,
          0,
          0,
          0,
          0,
          0,
          0,
          0,
          0,
          0,
          0,
          0,
          0,
          0,
          0,
          0,
          0,
          0,
          0,
          0,
          0,
          0,
          0,
          0,
          0,
          0,
          0,
          0,
          0,
          0,
          0,
          0,
          0,
          0,
          0,
          0,
          0,
          0,
          0,
          0,
          0,
          0,
          0,
          0,
          0,
          0,
          0,
          0,
          0,
          0,
          0,
          0,
          0,
          0,
          0,
          0,
          0,
          0,
          0,
          0,
          0,
          0,
          0,
          0,
          0,
          0,
          0,
          0,
          0,
          0,
          0
         ],
         "y": [
          0.012346561998128891,
          0.012546251527965069,
          0.012546251527965069,
          0.012796827591955662,
          0.015122733078897,
          0.015604826621711254,
          0.01870754174888134,
          0.01923162117600441,
          0.01923162117600441,
          0.019751088693737984,
          0.022668231278657913,
          0.02310686744749546,
          0.02417778968811035,
          0.02417778968811035,
          0.024296006187796593,
          0.02453017048537731,
          0.02534765750169754,
          0.025647826492786407,
          0.025647826492786407,
          0.025876028463244438,
          0.02592514641582966,
          0.026514194905757904,
          0.026514194905757904,
          0.027080921456217766,
          0.027185294777154922,
          0.027232374995946884,
          0.027232374995946884,
          0.028021132573485374,
          0.028021132573485374,
          0.028871091082692146,
          0.029773138463497162,
          0.031699247658252716,
          0.03270750492811203,
          0.03373629227280617,
          0.03373629227280617,
          0.03477910906076431,
          0.03477910906076431,
          0.035829976201057434,
          0.036883413791656494,
          0.04001094773411751,
          0.041028402745723724,
          0.041028402745723724,
          0.04202710837125778,
          0.04202710837125778,
          0.04300377890467644,
          0.04300377890467644,
          0.043955378234386444,
          0.04487910866737366,
          0.04663282260298729,
          0.047458212822675705,
          0.04824652150273323,
          0.04824652150273323,
          0.04899587109684944,
          0.04899587109684944,
          0.049704525619745255,
          0.04972219094634056,
          0.050370894372463226,
          0.05210234597325325,
          0.05258623883128166,
          0.05258623883128166,
          0.05302177742123604,
          0.05302177742123604,
          0.05340809002518654,
          0.05340809002518654,
          0.05374441295862198,
          0.054030098021030426,
          0.05444743111729622,
          0.05457828566431999,
          0.05465689301490784,
          0.05468311533331871,
          0.061400558799505234,
          0.07450921088457108,
          0.0758235827088356,
          0.09149022400379181,
          0.09200936555862427,
          0.1019262745976448,
          0.11362241208553314,
          0.137099027633667,
          0.152737557888031,
          0.162535160779953,
          0.18314513564109802,
          0.23147724568843842,
          0.9527149200439453,
          1.2407190799713135,
          1.5656745433807373,
          1.6537388563156128,
          1.6678125858306885,
          1.7417383193969727,
          1.7744238376617432,
          1.8726754188537598,
          1.9659186601638794,
          2.1131882667541504,
          2.1265790462493896,
          2.213545083999634,
          2.2300214767456055,
          2.6756081581115723,
          3.095689296722412,
          3.1628668308258057,
          3.4948525428771973
         ]
        },
        {
         "hoverinfo": "text",
         "hovertext": [
          "(3.8400893211364746, 4.56086540222168)",
          "(3.748274087905884, 4.33968448638916)",
          "(2.3923346996307373, 2.5293402671813965)",
          "(2.2444071769714355, 3.285356044769287)",
          "(0.6995388269424438, 0.7012826800346375)",
          "(0.16308282315731049, 0.7029591798782349)"
         ],
         "mode": "markers",
         "name": "H1",
         "type": "scatter",
         "x": [
          3.8400893211364746,
          3.748274087905884,
          2.3923346996307373,
          2.2444071769714355,
          0.6995388269424438,
          0.16308282315731049
         ],
         "y": [
          4.56086540222168,
          4.33968448638916,
          2.5293402671813965,
          3.285356044769287,
          0.7012826800346375,
          0.7029591798782349
         ]
        },
        {
         "hoverinfo": "text",
         "hovertext": [],
         "mode": "markers",
         "name": "H2",
         "type": "scatter",
         "x": [],
         "y": []
        }
       ],
       "layout": {
        "height": 500,
        "plot_bgcolor": "white",
        "template": {
         "data": {
          "bar": [
           {
            "error_x": {
             "color": "#2a3f5f"
            },
            "error_y": {
             "color": "#2a3f5f"
            },
            "marker": {
             "line": {
              "color": "#E5ECF6",
              "width": 0.5
             },
             "pattern": {
              "fillmode": "overlay",
              "size": 10,
              "solidity": 0.2
             }
            },
            "type": "bar"
           }
          ],
          "barpolar": [
           {
            "marker": {
             "line": {
              "color": "#E5ECF6",
              "width": 0.5
             },
             "pattern": {
              "fillmode": "overlay",
              "size": 10,
              "solidity": 0.2
             }
            },
            "type": "barpolar"
           }
          ],
          "carpet": [
           {
            "aaxis": {
             "endlinecolor": "#2a3f5f",
             "gridcolor": "white",
             "linecolor": "white",
             "minorgridcolor": "white",
             "startlinecolor": "#2a3f5f"
            },
            "baxis": {
             "endlinecolor": "#2a3f5f",
             "gridcolor": "white",
             "linecolor": "white",
             "minorgridcolor": "white",
             "startlinecolor": "#2a3f5f"
            },
            "type": "carpet"
           }
          ],
          "choropleth": [
           {
            "colorbar": {
             "outlinewidth": 0,
             "ticks": ""
            },
            "type": "choropleth"
           }
          ],
          "contour": [
           {
            "colorbar": {
             "outlinewidth": 0,
             "ticks": ""
            },
            "colorscale": [
             [
              0,
              "#0d0887"
             ],
             [
              0.1111111111111111,
              "#46039f"
             ],
             [
              0.2222222222222222,
              "#7201a8"
             ],
             [
              0.3333333333333333,
              "#9c179e"
             ],
             [
              0.4444444444444444,
              "#bd3786"
             ],
             [
              0.5555555555555556,
              "#d8576b"
             ],
             [
              0.6666666666666666,
              "#ed7953"
             ],
             [
              0.7777777777777778,
              "#fb9f3a"
             ],
             [
              0.8888888888888888,
              "#fdca26"
             ],
             [
              1,
              "#f0f921"
             ]
            ],
            "type": "contour"
           }
          ],
          "contourcarpet": [
           {
            "colorbar": {
             "outlinewidth": 0,
             "ticks": ""
            },
            "type": "contourcarpet"
           }
          ],
          "heatmap": [
           {
            "colorbar": {
             "outlinewidth": 0,
             "ticks": ""
            },
            "colorscale": [
             [
              0,
              "#0d0887"
             ],
             [
              0.1111111111111111,
              "#46039f"
             ],
             [
              0.2222222222222222,
              "#7201a8"
             ],
             [
              0.3333333333333333,
              "#9c179e"
             ],
             [
              0.4444444444444444,
              "#bd3786"
             ],
             [
              0.5555555555555556,
              "#d8576b"
             ],
             [
              0.6666666666666666,
              "#ed7953"
             ],
             [
              0.7777777777777778,
              "#fb9f3a"
             ],
             [
              0.8888888888888888,
              "#fdca26"
             ],
             [
              1,
              "#f0f921"
             ]
            ],
            "type": "heatmap"
           }
          ],
          "heatmapgl": [
           {
            "colorbar": {
             "outlinewidth": 0,
             "ticks": ""
            },
            "colorscale": [
             [
              0,
              "#0d0887"
             ],
             [
              0.1111111111111111,
              "#46039f"
             ],
             [
              0.2222222222222222,
              "#7201a8"
             ],
             [
              0.3333333333333333,
              "#9c179e"
             ],
             [
              0.4444444444444444,
              "#bd3786"
             ],
             [
              0.5555555555555556,
              "#d8576b"
             ],
             [
              0.6666666666666666,
              "#ed7953"
             ],
             [
              0.7777777777777778,
              "#fb9f3a"
             ],
             [
              0.8888888888888888,
              "#fdca26"
             ],
             [
              1,
              "#f0f921"
             ]
            ],
            "type": "heatmapgl"
           }
          ],
          "histogram": [
           {
            "marker": {
             "pattern": {
              "fillmode": "overlay",
              "size": 10,
              "solidity": 0.2
             }
            },
            "type": "histogram"
           }
          ],
          "histogram2d": [
           {
            "colorbar": {
             "outlinewidth": 0,
             "ticks": ""
            },
            "colorscale": [
             [
              0,
              "#0d0887"
             ],
             [
              0.1111111111111111,
              "#46039f"
             ],
             [
              0.2222222222222222,
              "#7201a8"
             ],
             [
              0.3333333333333333,
              "#9c179e"
             ],
             [
              0.4444444444444444,
              "#bd3786"
             ],
             [
              0.5555555555555556,
              "#d8576b"
             ],
             [
              0.6666666666666666,
              "#ed7953"
             ],
             [
              0.7777777777777778,
              "#fb9f3a"
             ],
             [
              0.8888888888888888,
              "#fdca26"
             ],
             [
              1,
              "#f0f921"
             ]
            ],
            "type": "histogram2d"
           }
          ],
          "histogram2dcontour": [
           {
            "colorbar": {
             "outlinewidth": 0,
             "ticks": ""
            },
            "colorscale": [
             [
              0,
              "#0d0887"
             ],
             [
              0.1111111111111111,
              "#46039f"
             ],
             [
              0.2222222222222222,
              "#7201a8"
             ],
             [
              0.3333333333333333,
              "#9c179e"
             ],
             [
              0.4444444444444444,
              "#bd3786"
             ],
             [
              0.5555555555555556,
              "#d8576b"
             ],
             [
              0.6666666666666666,
              "#ed7953"
             ],
             [
              0.7777777777777778,
              "#fb9f3a"
             ],
             [
              0.8888888888888888,
              "#fdca26"
             ],
             [
              1,
              "#f0f921"
             ]
            ],
            "type": "histogram2dcontour"
           }
          ],
          "mesh3d": [
           {
            "colorbar": {
             "outlinewidth": 0,
             "ticks": ""
            },
            "type": "mesh3d"
           }
          ],
          "parcoords": [
           {
            "line": {
             "colorbar": {
              "outlinewidth": 0,
              "ticks": ""
             }
            },
            "type": "parcoords"
           }
          ],
          "pie": [
           {
            "automargin": true,
            "type": "pie"
           }
          ],
          "scatter": [
           {
            "fillpattern": {
             "fillmode": "overlay",
             "size": 10,
             "solidity": 0.2
            },
            "type": "scatter"
           }
          ],
          "scatter3d": [
           {
            "line": {
             "colorbar": {
              "outlinewidth": 0,
              "ticks": ""
             }
            },
            "marker": {
             "colorbar": {
              "outlinewidth": 0,
              "ticks": ""
             }
            },
            "type": "scatter3d"
           }
          ],
          "scattercarpet": [
           {
            "marker": {
             "colorbar": {
              "outlinewidth": 0,
              "ticks": ""
             }
            },
            "type": "scattercarpet"
           }
          ],
          "scattergeo": [
           {
            "marker": {
             "colorbar": {
              "outlinewidth": 0,
              "ticks": ""
             }
            },
            "type": "scattergeo"
           }
          ],
          "scattergl": [
           {
            "marker": {
             "colorbar": {
              "outlinewidth": 0,
              "ticks": ""
             }
            },
            "type": "scattergl"
           }
          ],
          "scattermapbox": [
           {
            "marker": {
             "colorbar": {
              "outlinewidth": 0,
              "ticks": ""
             }
            },
            "type": "scattermapbox"
           }
          ],
          "scatterpolar": [
           {
            "marker": {
             "colorbar": {
              "outlinewidth": 0,
              "ticks": ""
             }
            },
            "type": "scatterpolar"
           }
          ],
          "scatterpolargl": [
           {
            "marker": {
             "colorbar": {
              "outlinewidth": 0,
              "ticks": ""
             }
            },
            "type": "scatterpolargl"
           }
          ],
          "scatterternary": [
           {
            "marker": {
             "colorbar": {
              "outlinewidth": 0,
              "ticks": ""
             }
            },
            "type": "scatterternary"
           }
          ],
          "surface": [
           {
            "colorbar": {
             "outlinewidth": 0,
             "ticks": ""
            },
            "colorscale": [
             [
              0,
              "#0d0887"
             ],
             [
              0.1111111111111111,
              "#46039f"
             ],
             [
              0.2222222222222222,
              "#7201a8"
             ],
             [
              0.3333333333333333,
              "#9c179e"
             ],
             [
              0.4444444444444444,
              "#bd3786"
             ],
             [
              0.5555555555555556,
              "#d8576b"
             ],
             [
              0.6666666666666666,
              "#ed7953"
             ],
             [
              0.7777777777777778,
              "#fb9f3a"
             ],
             [
              0.8888888888888888,
              "#fdca26"
             ],
             [
              1,
              "#f0f921"
             ]
            ],
            "type": "surface"
           }
          ],
          "table": [
           {
            "cells": {
             "fill": {
              "color": "#EBF0F8"
             },
             "line": {
              "color": "white"
             }
            },
            "header": {
             "fill": {
              "color": "#C8D4E3"
             },
             "line": {
              "color": "white"
             }
            },
            "type": "table"
           }
          ]
         },
         "layout": {
          "annotationdefaults": {
           "arrowcolor": "#2a3f5f",
           "arrowhead": 0,
           "arrowwidth": 1
          },
          "autotypenumbers": "strict",
          "coloraxis": {
           "colorbar": {
            "outlinewidth": 0,
            "ticks": ""
           }
          },
          "colorscale": {
           "diverging": [
            [
             0,
             "#8e0152"
            ],
            [
             0.1,
             "#c51b7d"
            ],
            [
             0.2,
             "#de77ae"
            ],
            [
             0.3,
             "#f1b6da"
            ],
            [
             0.4,
             "#fde0ef"
            ],
            [
             0.5,
             "#f7f7f7"
            ],
            [
             0.6,
             "#e6f5d0"
            ],
            [
             0.7,
             "#b8e186"
            ],
            [
             0.8,
             "#7fbc41"
            ],
            [
             0.9,
             "#4d9221"
            ],
            [
             1,
             "#276419"
            ]
           ],
           "sequential": [
            [
             0,
             "#0d0887"
            ],
            [
             0.1111111111111111,
             "#46039f"
            ],
            [
             0.2222222222222222,
             "#7201a8"
            ],
            [
             0.3333333333333333,
             "#9c179e"
            ],
            [
             0.4444444444444444,
             "#bd3786"
            ],
            [
             0.5555555555555556,
             "#d8576b"
            ],
            [
             0.6666666666666666,
             "#ed7953"
            ],
            [
             0.7777777777777778,
             "#fb9f3a"
            ],
            [
             0.8888888888888888,
             "#fdca26"
            ],
            [
             1,
             "#f0f921"
            ]
           ],
           "sequentialminus": [
            [
             0,
             "#0d0887"
            ],
            [
             0.1111111111111111,
             "#46039f"
            ],
            [
             0.2222222222222222,
             "#7201a8"
            ],
            [
             0.3333333333333333,
             "#9c179e"
            ],
            [
             0.4444444444444444,
             "#bd3786"
            ],
            [
             0.5555555555555556,
             "#d8576b"
            ],
            [
             0.6666666666666666,
             "#ed7953"
            ],
            [
             0.7777777777777778,
             "#fb9f3a"
            ],
            [
             0.8888888888888888,
             "#fdca26"
            ],
            [
             1,
             "#f0f921"
            ]
           ]
          },
          "colorway": [
           "#636efa",
           "#EF553B",
           "#00cc96",
           "#ab63fa",
           "#FFA15A",
           "#19d3f3",
           "#FF6692",
           "#B6E880",
           "#FF97FF",
           "#FECB52"
          ],
          "font": {
           "color": "#2a3f5f"
          },
          "geo": {
           "bgcolor": "white",
           "lakecolor": "white",
           "landcolor": "#E5ECF6",
           "showlakes": true,
           "showland": true,
           "subunitcolor": "white"
          },
          "hoverlabel": {
           "align": "left"
          },
          "hovermode": "closest",
          "mapbox": {
           "style": "light"
          },
          "paper_bgcolor": "white",
          "plot_bgcolor": "#E5ECF6",
          "polar": {
           "angularaxis": {
            "gridcolor": "white",
            "linecolor": "white",
            "ticks": ""
           },
           "bgcolor": "#E5ECF6",
           "radialaxis": {
            "gridcolor": "white",
            "linecolor": "white",
            "ticks": ""
           }
          },
          "scene": {
           "xaxis": {
            "backgroundcolor": "#E5ECF6",
            "gridcolor": "white",
            "gridwidth": 2,
            "linecolor": "white",
            "showbackground": true,
            "ticks": "",
            "zerolinecolor": "white"
           },
           "yaxis": {
            "backgroundcolor": "#E5ECF6",
            "gridcolor": "white",
            "gridwidth": 2,
            "linecolor": "white",
            "showbackground": true,
            "ticks": "",
            "zerolinecolor": "white"
           },
           "zaxis": {
            "backgroundcolor": "#E5ECF6",
            "gridcolor": "white",
            "gridwidth": 2,
            "linecolor": "white",
            "showbackground": true,
            "ticks": "",
            "zerolinecolor": "white"
           }
          },
          "shapedefaults": {
           "line": {
            "color": "#2a3f5f"
           }
          },
          "ternary": {
           "aaxis": {
            "gridcolor": "white",
            "linecolor": "white",
            "ticks": ""
           },
           "baxis": {
            "gridcolor": "white",
            "linecolor": "white",
            "ticks": ""
           },
           "bgcolor": "#E5ECF6",
           "caxis": {
            "gridcolor": "white",
            "linecolor": "white",
            "ticks": ""
           }
          },
          "title": {
           "x": 0.05
          },
          "xaxis": {
           "automargin": true,
           "gridcolor": "white",
           "linecolor": "white",
           "ticks": "",
           "title": {
            "standoff": 15
           },
           "zerolinecolor": "white",
           "zerolinewidth": 2
          },
          "yaxis": {
           "automargin": true,
           "gridcolor": "white",
           "linecolor": "white",
           "ticks": "",
           "title": {
            "standoff": 15
           },
           "zerolinecolor": "white",
           "zerolinewidth": 2
          }
         }
        },
        "width": 500,
        "xaxis": {
         "autorange": false,
         "exponentformat": "e",
         "linecolor": "black",
         "linewidth": 1,
         "mirror": false,
         "range": [
          -0.09121730804443359,
          4.6520827102661135
         ],
         "showexponent": "all",
         "showline": true,
         "side": "bottom",
         "ticks": "outside",
         "title": {
          "text": "Birth"
         },
         "type": "linear",
         "zeroline": true
        },
        "yaxis": {
         "autorange": false,
         "exponentformat": "e",
         "linecolor": "black",
         "linewidth": 1,
         "mirror": false,
         "range": [
          -0.09121730804443359,
          4.6520827102661135
         ],
         "scaleanchor": "x",
         "scaleratio": 1,
         "showexponent": "all",
         "showline": true,
         "side": "left",
         "ticks": "outside",
         "title": {
          "text": "Death"
         },
         "type": "linear",
         "zeroline": true
        }
       }
      }
     },
     "metadata": {},
     "output_type": "display_data"
    }
   ],
   "source": [
    "from gtda.plotting import plot_diagram, plot_point_cloud\n",
    "\n",
    "mi_tda = AnalisisTDA(embedding_type = \"STK\", univariate = True, option_uni = 2)\n",
    "X_univariate = np.array(df_interesting[\"precio_frambuesa\"].copy()) # X_train[\"precio_frambuesa\"]\n",
    "\n",
    "# homologia_persistente(self, datos, embedding_dimension = 2, embedding_time_delay = 1, window_size = 100,  stride = 4)\n",
    "embedding_dimension = 10\n",
    "embedding_time_delay = 3\n",
    "stride = 3\n",
    "diagrama, features, plot_cloud = mi_tda.homologia_persistente(X_univariate, embedding_dimension = embedding_dimension, embedding_time_delay = embedding_time_delay, window_size = 100,  stride = stride)\n",
    "# plots\n",
    "plot_diagram(diagrama)"
   ]
  },
  {
   "cell_type": "markdown",
   "id": "8caa4251",
   "metadata": {},
   "source": [
    "![alt text](imgs/pers_d_eda.png \"Title\")"
   ]
  },
  {
   "cell_type": "code",
   "execution_count": 76,
   "id": "8206b873",
   "metadata": {},
   "outputs": [
    {
     "data": {
      "application/vnd.plotly.v1+json": {
       "config": {
        "plotlyServerURL": "https://plot.ly"
       },
       "data": [
        {
         "marker": {
          "color": [
           0,
           1,
           2,
           3,
           4,
           5,
           6,
           7,
           8,
           9,
           10,
           11,
           12,
           13,
           14,
           15,
           16,
           17,
           18,
           19,
           20,
           21,
           22,
           23,
           24,
           25,
           26,
           27,
           28,
           29,
           30,
           31,
           32,
           33,
           34,
           35,
           36,
           37,
           38,
           39,
           40,
           41,
           42,
           43,
           44,
           45,
           46,
           47,
           48,
           49,
           50,
           51,
           52,
           53,
           54,
           55,
           56,
           57,
           58,
           59,
           60,
           61,
           62,
           63,
           64,
           65,
           66,
           67,
           68,
           69,
           70,
           71,
           72,
           73,
           74,
           75,
           76,
           77,
           78,
           79,
           80,
           81,
           82,
           83,
           84,
           85,
           86,
           87,
           88,
           89,
           90,
           91,
           92,
           93,
           94,
           95,
           96,
           97,
           98,
           99,
           100,
           101,
           102,
           103,
           104,
           105,
           106,
           107,
           108,
           109,
           110,
           111,
           112,
           113,
           114,
           115,
           116,
           117,
           118,
           119
          ],
          "colorscale": [
           [
            0,
            "#440154"
           ],
           [
            0.1111111111111111,
            "#482878"
           ],
           [
            0.2222222222222222,
            "#3e4989"
           ],
           [
            0.3333333333333333,
            "#31688e"
           ],
           [
            0.4444444444444444,
            "#26828e"
           ],
           [
            0.5555555555555556,
            "#1f9e89"
           ],
           [
            0.6666666666666666,
            "#35b779"
           ],
           [
            0.7777777777777778,
            "#6ece58"
           ],
           [
            0.8888888888888888,
            "#b5de2b"
           ],
           [
            1,
            "#fde725"
           ]
          ],
          "opacity": 0.8,
          "size": 4
         },
         "mode": "markers",
         "type": "scatter",
         "x": [
          -1.2532084824772682,
          -1.4893888764583785,
          -1.531460288593447,
          -1.3683905822751918,
          -1.0429405583732203,
          -0.6404510443120986,
          -0.26646447560270387,
          -0.019049129631143354,
          0.03691673644470978,
          -0.11324247414168351,
          -0.43015140316105965,
          -0.8307089037875928,
          -1.2098791609221244,
          -1.4682346093407144,
          -1.5380282337771165,
          -1.4009584664915293,
          -1.0929682987143612,
          -0.6948201634655926,
          -0.3109180822668574,
          -0.04193041847148312,
          0.041607789944277156,
          -0.08220918540850483,
          -0.38091355424017054,
          -0.7761778434542513,
          -1.1643542453520974,
          -1.4436535668420198,
          -1.5408368051754755,
          -1.4304201767849032,
          -1.1413575785399497,
          -0.7494481792836629,
          -0.3574600538405496,
          -0.06818192093565784,
          0.042530532213817036,
          -0.054354163631855364,
          -0.333430509929103,
          -0.7215179733902544,
          -1.1168506827218079,
          -1.4157628888239493,
          -1.5398726186667968,
          -1.456635314688977,
          -1.1878778008952617,
          0.48672191873141146,
          2.2856001051095824,
          5.106478388175624,
          6.566708348566359,
          4.3955546549707485,
          1.8256920680792426,
          1.2463200068723617,
          4.0125949448715215,
          5.421630013290957,
          6.11705979040593,
          7.326122911633635,
          8.676065127799257,
          7.114886363190685,
          5.164939234362564,
          3.317947199756931,
          3.4812983731819673,
          3.439532790654718,
          2.0866902932905087,
          0.5064756949922535,
          -1.0168214710852561,
          -1.350599411893367,
          -1.5266623080928046,
          -1.4988422317778347,
          -1.2744342763802174,
          -0.9122836076328541,
          -0.5073548451498737,
          -0.16583005407290174,
          0.0227347474203238,
          0.008893331028318472,
          -0.20372475081116231,
          -0.5593659209065832,
          -0.9647725068254922,
          -1.3136371466237136,
          -1.5144791371733186,
          -1.514632875781764,
          -1.3140580484865723,
          -0.9653502013463513,
          -0.5599489226812696,
          -0.20416018274584352,
          0.008719649664518388,
          0.022868360060211146,
          -0.1654241838785694,
          -0.5067831463323222,
          -0.9116959933785767,
          -1.2739848332861807,
          -1.4986488146380421,
          -1.5267756355354218,
          -1.350989766735991,
          -1.0173864928952183,
          -0.6134446197596053,
          -0.24508742633682437,
          -0.00890703235570629,
          0.033164379779361736,
          -0.12990532653889322,
          -0.45535535044086367,
          -0.8578448645019848,
          -1.2318314332113796,
          -1.4792467791829416,
          -1.5352126452587955,
          -1.3850534346724028,
          -1.068144505653027,
          -0.6675870050264944,
          -0.28841674789196303,
          -0.030061299473372542,
          0.03973232496302967,
          -0.0973374423225576,
          -0.4053276100997265,
          -0.803475745348493,
          -1.1873778265472263,
          -1.4563654903426002,
          -1.5399036987583614,
          -1.4160867234055816,
          -1.117382354573917,
          -0.7221180653598381,
          -0.3339416634619919,
          -0.05464234197206829,
          0.042540896361388955,
          -0.06787573202918273,
          -0.3569383302741356
         ],
         "y": [
          0.27476489368763757,
          0.12923707412167304,
          -0.04900585836969185,
          -0.213224317907759,
          -0.3203562728867538,
          -0.3423091468431611,
          -0.27332636798348453,
          -0.1314968808262956,
          0.04598821031666664,
          0.21258804380383994,
          0.3246161344780657,
          0.35269602128303096,
          0.28946448222479376,
          0.15150234835649257,
          -0.025013389100860307,
          -0.19379605636719205,
          -0.31058677674390184,
          -0.3447602130656696,
          -0.28735526802890826,
          -0.15342489953161503,
          0.021911127100031843,
          0.19267548665130976,
          0.31408965502193564,
          0.35431591573063637,
          0.30280597527318126,
          0.1730669794980318,
          -0.0008803850514963803,
          -0.17342293377336185,
          -0.299315858578989,
          -0.34554700527954624,
          -0.29999345477086803,
          -0.17460044413091735,
          -0.002249038025074608,
          0.17186607765138298,
          0.30208772991441335,
          0.3542686680756338,
          0.31472579454274,
          0.19382820225842604,
          0.023278149023996837,
          -0.1522020373332971,
          -0.2865972294498201,
          -1.9736459123265695,
          -1.9417801497432818,
          -1.7368030775116634,
          -1.569786989317512,
          4.337797316932627,
          2.8466583526261804,
          -3.458271899957445,
          -1.8522328690449024,
          0.211550706337906,
          -1.0295697813420244,
          -1.5014854257434604,
          -0.5740524050444066,
          2.3851946687868826,
          2.409171374993663,
          -0.2172218118563193,
          -0.05328550851608982,
          0.12502989215706453,
          1.6805043059660507,
          1.7571939877834557,
          0.334080243893961,
          0.2325489759966727,
          0.0712117285545482,
          -0.10762498996750658,
          -0.2570658887055322,
          -0.3379239680813184,
          -0.3289962940309546,
          -0.23262391751305883,
          -0.07407799461574542,
          0.10506691865811818,
          0.25783471536468977,
          0.34416600322476354,
          0.34142264121049865,
          0.2503240048543215,
          0.09475834867431049,
          -0.08448126897275658,
          -0.24039390737755711,
          -0.33209552109469914,
          -0.33553974043288415,
          -0.24982340820494073,
          -0.09742340927456249,
          0.08169730950611191,
          0.24056898557154158,
          0.3375316425997221,
          0.34715933874908156,
          0.2669274604223423,
          0.11787473670035599,
          -0.06091362166835704,
          -0.22255500501571254,
          -0.32466315312416094,
          -0.3404628525772531,
          -0.2658110419973356,
          -0.12028322243137707,
          0.05795971005999209,
          0.22217816959805936,
          0.329310124577054,
          0.3512629985334621,
          0.28228021967378625,
          0.14045073251659823,
          -0.03703435862636478,
          -0.20363419211353856,
          -0.315662282787764,
          -0.3437421695927293,
          -0.2805106305344924,
          -0.14254849666619246,
          0.03396724079116178,
          0.20274990805749427,
          0.319540628434203,
          0.3537140647559682,
          0.2963091197192075,
          0.16237875122191853,
          -0.01295727540973022,
          -0.1837216349610076,
          -0.30513580333163226,
          -0.34536206404033465,
          -0.2938521235828804,
          -0.16411312780773218,
          0.00983423674179632,
          0.18237678546366307,
          0.30826971026929006
         ]
        }
       ],
       "layout": {
        "height": 600,
        "plot_bgcolor": "white",
        "template": {
         "data": {
          "bar": [
           {
            "error_x": {
             "color": "#2a3f5f"
            },
            "error_y": {
             "color": "#2a3f5f"
            },
            "marker": {
             "line": {
              "color": "#E5ECF6",
              "width": 0.5
             },
             "pattern": {
              "fillmode": "overlay",
              "size": 10,
              "solidity": 0.2
             }
            },
            "type": "bar"
           }
          ],
          "barpolar": [
           {
            "marker": {
             "line": {
              "color": "#E5ECF6",
              "width": 0.5
             },
             "pattern": {
              "fillmode": "overlay",
              "size": 10,
              "solidity": 0.2
             }
            },
            "type": "barpolar"
           }
          ],
          "carpet": [
           {
            "aaxis": {
             "endlinecolor": "#2a3f5f",
             "gridcolor": "white",
             "linecolor": "white",
             "minorgridcolor": "white",
             "startlinecolor": "#2a3f5f"
            },
            "baxis": {
             "endlinecolor": "#2a3f5f",
             "gridcolor": "white",
             "linecolor": "white",
             "minorgridcolor": "white",
             "startlinecolor": "#2a3f5f"
            },
            "type": "carpet"
           }
          ],
          "choropleth": [
           {
            "colorbar": {
             "outlinewidth": 0,
             "ticks": ""
            },
            "type": "choropleth"
           }
          ],
          "contour": [
           {
            "colorbar": {
             "outlinewidth": 0,
             "ticks": ""
            },
            "colorscale": [
             [
              0,
              "#0d0887"
             ],
             [
              0.1111111111111111,
              "#46039f"
             ],
             [
              0.2222222222222222,
              "#7201a8"
             ],
             [
              0.3333333333333333,
              "#9c179e"
             ],
             [
              0.4444444444444444,
              "#bd3786"
             ],
             [
              0.5555555555555556,
              "#d8576b"
             ],
             [
              0.6666666666666666,
              "#ed7953"
             ],
             [
              0.7777777777777778,
              "#fb9f3a"
             ],
             [
              0.8888888888888888,
              "#fdca26"
             ],
             [
              1,
              "#f0f921"
             ]
            ],
            "type": "contour"
           }
          ],
          "contourcarpet": [
           {
            "colorbar": {
             "outlinewidth": 0,
             "ticks": ""
            },
            "type": "contourcarpet"
           }
          ],
          "heatmap": [
           {
            "colorbar": {
             "outlinewidth": 0,
             "ticks": ""
            },
            "colorscale": [
             [
              0,
              "#0d0887"
             ],
             [
              0.1111111111111111,
              "#46039f"
             ],
             [
              0.2222222222222222,
              "#7201a8"
             ],
             [
              0.3333333333333333,
              "#9c179e"
             ],
             [
              0.4444444444444444,
              "#bd3786"
             ],
             [
              0.5555555555555556,
              "#d8576b"
             ],
             [
              0.6666666666666666,
              "#ed7953"
             ],
             [
              0.7777777777777778,
              "#fb9f3a"
             ],
             [
              0.8888888888888888,
              "#fdca26"
             ],
             [
              1,
              "#f0f921"
             ]
            ],
            "type": "heatmap"
           }
          ],
          "heatmapgl": [
           {
            "colorbar": {
             "outlinewidth": 0,
             "ticks": ""
            },
            "colorscale": [
             [
              0,
              "#0d0887"
             ],
             [
              0.1111111111111111,
              "#46039f"
             ],
             [
              0.2222222222222222,
              "#7201a8"
             ],
             [
              0.3333333333333333,
              "#9c179e"
             ],
             [
              0.4444444444444444,
              "#bd3786"
             ],
             [
              0.5555555555555556,
              "#d8576b"
             ],
             [
              0.6666666666666666,
              "#ed7953"
             ],
             [
              0.7777777777777778,
              "#fb9f3a"
             ],
             [
              0.8888888888888888,
              "#fdca26"
             ],
             [
              1,
              "#f0f921"
             ]
            ],
            "type": "heatmapgl"
           }
          ],
          "histogram": [
           {
            "marker": {
             "pattern": {
              "fillmode": "overlay",
              "size": 10,
              "solidity": 0.2
             }
            },
            "type": "histogram"
           }
          ],
          "histogram2d": [
           {
            "colorbar": {
             "outlinewidth": 0,
             "ticks": ""
            },
            "colorscale": [
             [
              0,
              "#0d0887"
             ],
             [
              0.1111111111111111,
              "#46039f"
             ],
             [
              0.2222222222222222,
              "#7201a8"
             ],
             [
              0.3333333333333333,
              "#9c179e"
             ],
             [
              0.4444444444444444,
              "#bd3786"
             ],
             [
              0.5555555555555556,
              "#d8576b"
             ],
             [
              0.6666666666666666,
              "#ed7953"
             ],
             [
              0.7777777777777778,
              "#fb9f3a"
             ],
             [
              0.8888888888888888,
              "#fdca26"
             ],
             [
              1,
              "#f0f921"
             ]
            ],
            "type": "histogram2d"
           }
          ],
          "histogram2dcontour": [
           {
            "colorbar": {
             "outlinewidth": 0,
             "ticks": ""
            },
            "colorscale": [
             [
              0,
              "#0d0887"
             ],
             [
              0.1111111111111111,
              "#46039f"
             ],
             [
              0.2222222222222222,
              "#7201a8"
             ],
             [
              0.3333333333333333,
              "#9c179e"
             ],
             [
              0.4444444444444444,
              "#bd3786"
             ],
             [
              0.5555555555555556,
              "#d8576b"
             ],
             [
              0.6666666666666666,
              "#ed7953"
             ],
             [
              0.7777777777777778,
              "#fb9f3a"
             ],
             [
              0.8888888888888888,
              "#fdca26"
             ],
             [
              1,
              "#f0f921"
             ]
            ],
            "type": "histogram2dcontour"
           }
          ],
          "mesh3d": [
           {
            "colorbar": {
             "outlinewidth": 0,
             "ticks": ""
            },
            "type": "mesh3d"
           }
          ],
          "parcoords": [
           {
            "line": {
             "colorbar": {
              "outlinewidth": 0,
              "ticks": ""
             }
            },
            "type": "parcoords"
           }
          ],
          "pie": [
           {
            "automargin": true,
            "type": "pie"
           }
          ],
          "scatter": [
           {
            "fillpattern": {
             "fillmode": "overlay",
             "size": 10,
             "solidity": 0.2
            },
            "type": "scatter"
           }
          ],
          "scatter3d": [
           {
            "line": {
             "colorbar": {
              "outlinewidth": 0,
              "ticks": ""
             }
            },
            "marker": {
             "colorbar": {
              "outlinewidth": 0,
              "ticks": ""
             }
            },
            "type": "scatter3d"
           }
          ],
          "scattercarpet": [
           {
            "marker": {
             "colorbar": {
              "outlinewidth": 0,
              "ticks": ""
             }
            },
            "type": "scattercarpet"
           }
          ],
          "scattergeo": [
           {
            "marker": {
             "colorbar": {
              "outlinewidth": 0,
              "ticks": ""
             }
            },
            "type": "scattergeo"
           }
          ],
          "scattergl": [
           {
            "marker": {
             "colorbar": {
              "outlinewidth": 0,
              "ticks": ""
             }
            },
            "type": "scattergl"
           }
          ],
          "scattermapbox": [
           {
            "marker": {
             "colorbar": {
              "outlinewidth": 0,
              "ticks": ""
             }
            },
            "type": "scattermapbox"
           }
          ],
          "scatterpolar": [
           {
            "marker": {
             "colorbar": {
              "outlinewidth": 0,
              "ticks": ""
             }
            },
            "type": "scatterpolar"
           }
          ],
          "scatterpolargl": [
           {
            "marker": {
             "colorbar": {
              "outlinewidth": 0,
              "ticks": ""
             }
            },
            "type": "scatterpolargl"
           }
          ],
          "scatterternary": [
           {
            "marker": {
             "colorbar": {
              "outlinewidth": 0,
              "ticks": ""
             }
            },
            "type": "scatterternary"
           }
          ],
          "surface": [
           {
            "colorbar": {
             "outlinewidth": 0,
             "ticks": ""
            },
            "colorscale": [
             [
              0,
              "#0d0887"
             ],
             [
              0.1111111111111111,
              "#46039f"
             ],
             [
              0.2222222222222222,
              "#7201a8"
             ],
             [
              0.3333333333333333,
              "#9c179e"
             ],
             [
              0.4444444444444444,
              "#bd3786"
             ],
             [
              0.5555555555555556,
              "#d8576b"
             ],
             [
              0.6666666666666666,
              "#ed7953"
             ],
             [
              0.7777777777777778,
              "#fb9f3a"
             ],
             [
              0.8888888888888888,
              "#fdca26"
             ],
             [
              1,
              "#f0f921"
             ]
            ],
            "type": "surface"
           }
          ],
          "table": [
           {
            "cells": {
             "fill": {
              "color": "#EBF0F8"
             },
             "line": {
              "color": "white"
             }
            },
            "header": {
             "fill": {
              "color": "#C8D4E3"
             },
             "line": {
              "color": "white"
             }
            },
            "type": "table"
           }
          ]
         },
         "layout": {
          "annotationdefaults": {
           "arrowcolor": "#2a3f5f",
           "arrowhead": 0,
           "arrowwidth": 1
          },
          "autotypenumbers": "strict",
          "coloraxis": {
           "colorbar": {
            "outlinewidth": 0,
            "ticks": ""
           }
          },
          "colorscale": {
           "diverging": [
            [
             0,
             "#8e0152"
            ],
            [
             0.1,
             "#c51b7d"
            ],
            [
             0.2,
             "#de77ae"
            ],
            [
             0.3,
             "#f1b6da"
            ],
            [
             0.4,
             "#fde0ef"
            ],
            [
             0.5,
             "#f7f7f7"
            ],
            [
             0.6,
             "#e6f5d0"
            ],
            [
             0.7,
             "#b8e186"
            ],
            [
             0.8,
             "#7fbc41"
            ],
            [
             0.9,
             "#4d9221"
            ],
            [
             1,
             "#276419"
            ]
           ],
           "sequential": [
            [
             0,
             "#0d0887"
            ],
            [
             0.1111111111111111,
             "#46039f"
            ],
            [
             0.2222222222222222,
             "#7201a8"
            ],
            [
             0.3333333333333333,
             "#9c179e"
            ],
            [
             0.4444444444444444,
             "#bd3786"
            ],
            [
             0.5555555555555556,
             "#d8576b"
            ],
            [
             0.6666666666666666,
             "#ed7953"
            ],
            [
             0.7777777777777778,
             "#fb9f3a"
            ],
            [
             0.8888888888888888,
             "#fdca26"
            ],
            [
             1,
             "#f0f921"
            ]
           ],
           "sequentialminus": [
            [
             0,
             "#0d0887"
            ],
            [
             0.1111111111111111,
             "#46039f"
            ],
            [
             0.2222222222222222,
             "#7201a8"
            ],
            [
             0.3333333333333333,
             "#9c179e"
            ],
            [
             0.4444444444444444,
             "#bd3786"
            ],
            [
             0.5555555555555556,
             "#d8576b"
            ],
            [
             0.6666666666666666,
             "#ed7953"
            ],
            [
             0.7777777777777778,
             "#fb9f3a"
            ],
            [
             0.8888888888888888,
             "#fdca26"
            ],
            [
             1,
             "#f0f921"
            ]
           ]
          },
          "colorway": [
           "#636efa",
           "#EF553B",
           "#00cc96",
           "#ab63fa",
           "#FFA15A",
           "#19d3f3",
           "#FF6692",
           "#B6E880",
           "#FF97FF",
           "#FECB52"
          ],
          "font": {
           "color": "#2a3f5f"
          },
          "geo": {
           "bgcolor": "white",
           "lakecolor": "white",
           "landcolor": "#E5ECF6",
           "showlakes": true,
           "showland": true,
           "subunitcolor": "white"
          },
          "hoverlabel": {
           "align": "left"
          },
          "hovermode": "closest",
          "mapbox": {
           "style": "light"
          },
          "paper_bgcolor": "white",
          "plot_bgcolor": "#E5ECF6",
          "polar": {
           "angularaxis": {
            "gridcolor": "white",
            "linecolor": "white",
            "ticks": ""
           },
           "bgcolor": "#E5ECF6",
           "radialaxis": {
            "gridcolor": "white",
            "linecolor": "white",
            "ticks": ""
           }
          },
          "scene": {
           "xaxis": {
            "backgroundcolor": "#E5ECF6",
            "gridcolor": "white",
            "gridwidth": 2,
            "linecolor": "white",
            "showbackground": true,
            "ticks": "",
            "zerolinecolor": "white"
           },
           "yaxis": {
            "backgroundcolor": "#E5ECF6",
            "gridcolor": "white",
            "gridwidth": 2,
            "linecolor": "white",
            "showbackground": true,
            "ticks": "",
            "zerolinecolor": "white"
           },
           "zaxis": {
            "backgroundcolor": "#E5ECF6",
            "gridcolor": "white",
            "gridwidth": 2,
            "linecolor": "white",
            "showbackground": true,
            "ticks": "",
            "zerolinecolor": "white"
           }
          },
          "shapedefaults": {
           "line": {
            "color": "#2a3f5f"
           }
          },
          "ternary": {
           "aaxis": {
            "gridcolor": "white",
            "linecolor": "white",
            "ticks": ""
           },
           "baxis": {
            "gridcolor": "white",
            "linecolor": "white",
            "ticks": ""
           },
           "bgcolor": "#E5ECF6",
           "caxis": {
            "gridcolor": "white",
            "linecolor": "white",
            "ticks": ""
           }
          },
          "title": {
           "x": 0.05
          },
          "xaxis": {
           "automargin": true,
           "gridcolor": "white",
           "linecolor": "white",
           "ticks": "",
           "title": {
            "standoff": 15
           },
           "zerolinecolor": "white",
           "zerolinewidth": 2
          },
          "yaxis": {
           "automargin": true,
           "gridcolor": "white",
           "linecolor": "white",
           "ticks": "",
           "title": {
            "standoff": 15
           },
           "zerolinecolor": "white",
           "zerolinewidth": 2
          }
         }
        },
        "width": 600,
        "xaxis": {
         "anchor": "x",
         "exponentformat": "e",
         "linecolor": "black",
         "linewidth": 1,
         "mirror": false,
         "showexponent": "all",
         "showline": true,
         "side": "bottom",
         "ticks": "outside",
         "title": {
          "text": "0th"
         },
         "type": "linear",
         "zeroline": true
        },
        "yaxis": {
         "anchor": "y",
         "exponentformat": "e",
         "linecolor": "black",
         "linewidth": 1,
         "mirror": false,
         "showexponent": "all",
         "showline": true,
         "side": "left",
         "ticks": "outside",
         "title": {
          "text": "1st"
         },
         "type": "linear",
         "zeroline": true
        }
       }
      }
     },
     "metadata": {},
     "output_type": "display_data"
    }
   ],
   "source": [
    "plot_point_cloud(plot_cloud)"
   ]
  },
  {
   "cell_type": "markdown",
   "id": "a20b3234",
   "metadata": {},
   "source": [
    "![alt text](imgs/point_cloud.png \"Title\")"
   ]
  },
  {
   "cell_type": "code",
   "execution_count": 77,
   "id": "77724ba5",
   "metadata": {},
   "outputs": [],
   "source": [
    "mapper = km.KeplerMapper()\n",
    "lens = PCA(n_components=2).fit_transform(plot_cloud)\n",
    "graph = mapper.map(lens, plot_cloud, clusterer=DBSCAN(), cover = km.Cover(n_cubes=10, perc_overlap=0.5))\n",
    "mapper.visualize(graph, path_html=\"tda_mapper.html\");"
   ]
  },
  {
   "cell_type": "markdown",
   "id": "9e5a5313",
   "metadata": {},
   "source": [
    "![alt text](imgs/kmapper.png \"Title\")"
   ]
  },
  {
   "cell_type": "markdown",
   "id": "35b8dc8c",
   "metadata": {},
   "source": [
    "## Series de tiempo simuladas para entrenar clasificador binario"
   ]
  },
  {
   "cell_type": "code",
   "execution_count": 78,
   "id": "bcf61a28",
   "metadata": {},
   "outputs": [
    {
     "data": {
      "text/plain": [
       "(array([[ 0.00000000e+00,  8.58795265e-02,  1.69206540e-01, ...,\n",
       "         -1.69206540e-01, -8.58795265e-02, -1.22464680e-15],\n",
       "        [ 0.00000000e+00,  8.58795265e-02,  1.69206540e-01, ...,\n",
       "         -1.69206540e-01, -8.58795265e-02, -1.22464680e-15],\n",
       "        [ 0.00000000e+00,  8.58795265e-02,  1.69206540e-01, ...,\n",
       "         -1.69206540e-01, -8.58795265e-02, -1.22464680e-15],\n",
       "        ...,\n",
       "        [ 0.00000000e+00,  8.58795265e-02,  1.69206540e-01, ...,\n",
       "         -1.69206540e-01, -8.58795265e-02, -1.22464680e-15],\n",
       "        [ 0.00000000e+00,  8.58795265e-02,  1.69206540e-01, ...,\n",
       "         -1.69206540e-01, -8.58795265e-02, -1.22464680e-15],\n",
       "        [ 0.00000000e+00,  8.58795265e-02,  1.69206540e-01, ...,\n",
       "         -1.69206540e-01, -8.58795265e-02, -1.22464680e-15]]),\n",
       " array([1, 0, 0, 1, 0, 1, 1, 0, 1, 0, 0, 1, 1, 1, 0, 0, 1, 0, 1, 0, 1, 1,\n",
       "        1, 1, 0, 1, 1, 0, 0, 1, 1, 0, 1, 0, 1, 0, 0, 1, 1, 0, 0, 0, 0, 1,\n",
       "        0, 1, 1, 1, 0, 0, 0, 0, 0, 0, 1, 0, 1, 1, 0, 1, 1, 1, 0, 1, 0, 0,\n",
       "        1, 1, 1, 0, 1, 0, 0, 0, 1, 1, 0, 1, 0, 0, 1, 0, 0, 1, 1, 0, 1, 1,\n",
       "        1, 0, 0, 0, 0, 0, 0, 0, 0, 1, 0, 0]))"
      ]
     },
     "execution_count": 78,
     "metadata": {},
     "output_type": "execute_result"
    }
   ],
   "source": [
    "# Generación de N series: interesantes o no interesante\n",
    "\n",
    "import random\n",
    "\n",
    "X = []\n",
    "y = []\n",
    "\n",
    "N = 100\n",
    "for i in range(N):\n",
    "    intr = 1 if random.random() > 0.5 else 0\n",
    "    df_temp = DatosAgricolas(params, n_dias = 365).generar_datos(intr)\n",
    "    ts = df_temp['precio_frambuesa'].values\n",
    "    # print(ts)\n",
    "    X.append(ts)\n",
    "    y.append(intr)\n",
    "\n",
    "X = np.array(X)\n",
    "y = np.array(y)\n",
    "\n",
    "X, y\n"
   ]
  },
  {
   "cell_type": "code",
   "execution_count": 79,
   "id": "4cf417c3",
   "metadata": {},
   "outputs": [
    {
     "name": "stdout",
     "output_type": "stream",
     "text": [
      "X shape: (100, 365)\n",
      "y shape: (100,)\n"
     ]
    }
   ],
   "source": [
    "print(f\"X shape: {X.shape}\")  # debería ser (N, T)\n",
    "print(f\"y shape: {y.shape}\")  # debería ser (N,)"
   ]
  },
  {
   "cell_type": "markdown",
   "id": "edf5a56e",
   "metadata": {},
   "source": [
    "### Crear features con TDA (Takens Embedding)"
   ]
  },
  {
   "cell_type": "code",
   "execution_count": 80,
   "id": "9e0bcdfe",
   "metadata": {},
   "outputs": [],
   "source": [
    "tda = AnalisisTDA(only_x=True, univariate=False, embedding_type='TK')\n",
    "\n",
    "embedding_dimension = 20\n",
    "embedding_time_delay = 5\n",
    "stride = 5\n",
    "\n",
    "features = tda.homologia_persistente(X, embedding_dimension = embedding_dimension, embedding_time_delay = embedding_time_delay, stride = stride)"
   ]
  },
  {
   "cell_type": "markdown",
   "id": "a73c8b67",
   "metadata": {},
   "source": [
    "### Clasificador binario"
   ]
  },
  {
   "cell_type": "code",
   "execution_count": 81,
   "id": "616ad48a",
   "metadata": {},
   "outputs": [
    {
     "name": "stdout",
     "output_type": "stream",
     "text": [
      "Accuracy on train: 1.0\n",
      "ROC AUC on train: 1.0\n",
      "Accuracy on valid: 1.0\n",
      "ROC AUC on valid: 1.0\n",
      "Precision 1 on train: 1.0\n",
      "Precision 0 on train: 1.0\n",
      "Precision 1 on valid: 1.0\n",
      "Precision 0 on valid: 1.0\n"
     ]
    }
   ],
   "source": [
    "from sklearn.linear_model import LogisticRegression\n",
    "from sklearn.metrics import accuracy_score, recall_score, roc_auc_score, precision_score\n",
    "from sklearn.model_selection import train_test_split\n",
    "\n",
    "# Split de los datos (asumiendo que X e y ya están definidos)\n",
    "X_train, X_valid, y_train, y_valid = train_test_split(\n",
    "    features, y, test_size=0.3, random_state=113\n",
    ")\n",
    "\n",
    "# Entrenar modelo de regresión logística\n",
    "model = LogisticRegression()\n",
    "model.fit(X_train, y_train)\n",
    "\n",
    "def print_scores(fitted_model):\n",
    "    res = {\n",
    "        \"Accuracy on train:\": accuracy_score(fitted_model.predict(X_train), y_train),\n",
    "        \"ROC AUC on train:\": roc_auc_score(\n",
    "            y_train, fitted_model.predict_proba(X_train)[:, 1]\n",
    "        ),\n",
    "        \"Accuracy on valid:\": accuracy_score(fitted_model.predict(X_valid), y_valid),\n",
    "        \"ROC AUC on valid:\": roc_auc_score(\n",
    "            y_valid, fitted_model.predict_proba(X_valid)[:, 1]\n",
    "        ),\n",
    "        \"Precision 1 on train:\": precision_score(fitted_model.predict(X_train), y_train, pos_label=1),\n",
    "        \"Precision 0 on train:\": precision_score(fitted_model.predict(X_train), y_train, pos_label=0),\n",
    "        \"Precision 1 on valid:\": precision_score(fitted_model.predict(X_valid), y_valid, pos_label=1),\n",
    "        \"Precision 0 on valid:\": precision_score(fitted_model.predict(X_valid), y_valid, pos_label=0),\n",
    "    }\n",
    "\n",
    "    for k, v in res.items():\n",
    "        print(k, round(v, 3))\n",
    "\n",
    "print_scores(model)\n"
   ]
  },
  {
   "cell_type": "markdown",
   "id": "c7a957ee",
   "metadata": {},
   "source": [
    "## Datos Reales"
   ]
  },
  {
   "cell_type": "code",
   "execution_count": 82,
   "id": "e134d320",
   "metadata": {},
   "outputs": [
    {
     "data": {
      "text/plain": [
       "365"
      ]
     },
     "execution_count": 82,
     "metadata": {},
     "output_type": "execute_result"
    }
   ],
   "source": [
    "import pandas as pd\n",
    "\n",
    "# Leer el CSV\n",
    "df = pd.read_csv(\"Topo2025_prices_USDA_Clean.csv\", parse_dates=[\"date\"])\n",
    "\n",
    "# Establecer la columna de fechas como índice\n",
    "df = df.set_index(\"date\")\n",
    "\n",
    "# Crear un nuevo índice con todas las fechas del rango\n",
    "full_index = pd.date_range(start=df.index.min(), end=df.index.max(), freq=\"D\")\n",
    "\n",
    "# Reindexar para incluir fechas faltantes\n",
    "df = df.reindex(full_index)\n",
    "\n",
    "# Rellenar valores faltantes con el valor anterior\n",
    "df[\"commodity\"] = df[\"commodity\"].ffill()\n",
    "df[\"price\"] = df[\"price\"].ffill()\n",
    "\n",
    "# Si quieres volver a tener la columna de fechas como columna normal\n",
    "df = df.reset_index().rename(columns={\"index\": \"date\"})\n",
    "\n",
    "len(df['price'].values)"
   ]
  },
  {
   "cell_type": "code",
   "execution_count": 83,
   "id": "639d1b3a",
   "metadata": {},
   "outputs": [
    {
     "data": {
      "image/png": "[encoded data removed]",
      "text/plain": [
       "<Figure size 1200x600 with 1 Axes>"
      ]
     },
     "metadata": {},
     "output_type": "display_data"
    }
   ],
   "source": [
    "plt.figure(figsize=(12, 6))\n",
    "plt.plot(df['date'], df['price'], label='Real')\n",
    "# plt.plot(df_for_pers_dgms['fecha'], df_for_pers_dgms['precio_frambuesa'], label='Sintético', alpha = 0.5)\n",
    "plt.title('Precios')\n",
    "plt.xlabel('Fecha')\n",
    "plt.ylabel('Precio MXN')\n",
    "# plt.yscale(\"log\")\n",
    "plt.legend()\n",
    "#plt.grid(True)\n",
    "plt.show()"
   ]
  },
  {
   "cell_type": "markdown",
   "id": "c68b5ea7",
   "metadata": {},
   "source": [
    "### Predicción del modelo Logistic Regression de la serie real"
   ]
  },
  {
   "cell_type": "code",
   "execution_count": 84,
   "id": "ec05b4f6",
   "metadata": {},
   "outputs": [
    {
     "data": {
      "text/plain": [
       "1"
      ]
     },
     "execution_count": 84,
     "metadata": {},
     "output_type": "execute_result"
    }
   ],
   "source": [
    "embedding_dimension = 10\n",
    "embedding_time_delay = 3\n",
    "stride = 3\n",
    "\n",
    "_, features_real, _ = mi_tda.homologia_persistente(df['price'].values, embedding_dimension = embedding_dimension, embedding_time_delay = embedding_time_delay,  stride = stride)\n",
    "\n",
    "\n",
    "model.predict(features_real)[0]"
   ]
  },
  {
   "cell_type": "markdown",
   "id": "f3a90586",
   "metadata": {},
   "source": [
    "Por lo tanto, según el modelo, si hay eventos en la serie"
   ]
  },
  {
   "cell_type": "markdown",
   "id": "2015f6a1",
   "metadata": {},
   "source": [
    "# Descomposición de la serie Real: Raspberries"
   ]
  },
  {
   "cell_type": "code",
   "execution_count": 85,
   "id": "299dc72e",
   "metadata": {},
   "outputs": [],
   "source": [
    "from statsmodels.tsa.seasonal import STL\n",
    "\n",
    "decomposition = STL(df[\"price\"], period = 15).fit()"
   ]
  },
  {
   "cell_type": "code",
   "execution_count": 86,
   "id": "2d1794a8",
   "metadata": {},
   "outputs": [
    {
     "data": {
      "image/png": "[encoded data removed]",
      "text/plain": [
       "<Figure size 900x600 with 4 Axes>"
      ]
     },
     "metadata": {},
     "output_type": "display_data"
    }
   ],
   "source": [
    "fig, (ax1, ax2, ax3, ax4) = plt.subplots(nrows = 4, ncols = 1, sharex = True)\n",
    "\n",
    "fig.set_figwidth(9)\n",
    "fig.set_figheight(6)\n",
    "ax1.plot(decomposition.observed, color = \"dodgerblue\")\n",
    "ax1.set_ylabel(\"Observada\")\n",
    "ax2.plot(decomposition.trend, color = \"dodgerblue\")\n",
    "ax2.set_ylabel(\"Tendencia\")\n",
    "ax3.plot(decomposition.seasonal, color = \"dodgerblue\")\n",
    "ax3.set_ylabel(\"Estacionalidad\")\n",
    "ax4.plot(decomposition.resid, color = \"dodgerblue\")\n",
    "ax4.set_ylabel(\"Error\")\n",
    "plt.tight_layout()\n",
    "plt.show();"
   ]
  },
  {
   "cell_type": "markdown",
   "id": "4fc26b09",
   "metadata": {},
   "source": [
    "## Datos sintéticos"
   ]
  },
  {
   "cell_type": "code",
   "execution_count": 87,
   "id": "6140996d",
   "metadata": {},
   "outputs": [],
   "source": [
    "n = 365\n",
    "df_for_pers_dgms = DatosAgricolas(params, n_dias = n).generar_datos(interesting=True)"
   ]
  },
  {
   "cell_type": "markdown",
   "id": "cba0514f",
   "metadata": {},
   "source": [
    "# PARA LOS DATOS SINTÉTICOS"
   ]
  },
  {
   "cell_type": "code",
   "execution_count": 88,
   "id": "a3126343",
   "metadata": {},
   "outputs": [
    {
     "data": {
      "application/vnd.plotly.v1+json": {
       "config": {
        "plotlyServerURL": "https://plot.ly"
       },
       "data": [
        {
         "hoverinfo": "none",
         "line": {
          "color": "black",
          "dash": "dash",
          "width": 1
         },
         "mode": "lines",
         "showlegend": false,
         "type": "scatter",
         "x": [
          -0.11851321220397949,
          6.044173822402954
         ],
         "y": [
          -0.11851321220397949,
          6.044173822402954
         ]
        },
        {
         "hoverinfo": "text",
         "hovertext": [
          "(0.0, 0.029727157205343246)",
          "(0.0, 0.02973044663667679)",
          "(0.0, 0.029765993356704712)",
          "(0.0, 0.029774285852909088)",
          "(0.0, 0.029846016317605972)",
          "(0.0, 0.02985762618482113)",
          "(0.0, 0.02992907539010048)",
          "(0.0, 0.029940752312541008), multiplicity: 2",
          "(0.0, 0.029940752312541008), multiplicity: 2",
          "(0.0, 0.029952213168144226)",
          "(0.0, 0.03001350164413452)",
          "(0.0, 0.030022019520401955), multiplicity: 2",
          "(0.0, 0.030022019520401955), multiplicity: 2",
          "(0.0, 0.030029937624931335)",
          "(0.0, 0.0300593301653862)",
          "(0.0, 0.030062977224588394), multiplicity: 2",
          "(0.0, 0.030062977224588394), multiplicity: 2",
          "(0.0, 0.030065830796957016)",
          "(0.0, 0.05943530797958374)",
          "(0.0, 0.0594361387193203), multiplicity: 2",
          "(0.0, 0.0594361387193203), multiplicity: 2",
          "(0.0, 0.05943863093852997)",
          "(0.0, 0.05944277346134186)",
          "(0.0, 0.05945592001080513)",
          "(0.0, 0.05946485698223114)",
          "(0.0, 0.05947531759738922), multiplicity: 2",
          "(0.0, 0.05947531759738922), multiplicity: 2",
          "(0.0, 0.059487249702215195), multiplicity: 2",
          "(0.0, 0.059487249702215195), multiplicity: 2",
          "(0.0, 0.059500593692064285)",
          "(0.0, 0.05951528623700142)",
          "(0.0, 0.059548430144786835)",
          "(0.0, 0.05956672132015228)",
          "(0.0, 0.059586040675640106), multiplicity: 2",
          "(0.0, 0.059586040675640106), multiplicity: 2",
          "(0.0, 0.05960629880428314), multiplicity: 2",
          "(0.0, 0.05960629880428314), multiplicity: 2",
          "(0.0, 0.05962739884853363), multiplicity: 2",
          "(0.0, 0.05962739884853363), multiplicity: 2",
          "(0.0, 0.059649232774972916)",
          "(0.0, 0.05967170000076294)",
          "(0.0, 0.05971810594201088)",
          "(0.0, 0.05974181741476059)",
          "(0.0, 0.05976572260260582)",
          "(0.0, 0.05978970229625702), multiplicity: 2",
          "(0.0, 0.05978970229625702), multiplicity: 2",
          "(0.0, 0.059813644737005234)",
          "(0.0, 0.05983743444085121)",
          "(0.0, 0.059906765818595886)",
          "(0.0, 0.059928830713033676), multiplicity: 2",
          "(0.0, 0.059928830713033676), multiplicity: 2",
          "(0.0, 0.059950198978185654), multiplicity: 2",
          "(0.0, 0.059950198978185654), multiplicity: 2",
          "(0.0, 0.05997076630592346), multiplicity: 2",
          "(0.0, 0.05997076630592346), multiplicity: 2",
          "(0.0, 0.05999043583869934)",
          "(0.0, 0.06000911816954613)",
          "(0.0, 0.06005837023258209)",
          "(0.0, 0.060072265565395355)",
          "(0.0, 0.060084786266088486), multiplicity: 2",
          "(0.0, 0.060084786266088486), multiplicity: 2",
          "(0.0, 0.06009587273001671)",
          "(0.0, 0.06010547652840614)",
          "(0.0, 0.0601249560713768)",
          "(0.0, 0.060128238052129745)",
          "(0.0, 0.06012988090515137), multiplicity: 2",
          "(0.0, 0.06012988090515137), multiplicity: 2",
          "(0.0, 0.1188262477517128)",
          "(0.0, 0.11899156868457794)",
          "(0.0, 0.11965057998895645)",
          "(0.0, 0.1780623346567154)",
          "(0.0, 0.1783100813627243)",
          "(0.0, 0.1787996143102646)",
          "(0.0, 0.17886973917484283)",
          "(0.0, 0.17929761111736298)",
          "(0.0, 0.1797941029071808)",
          "(0.0, 0.17984336614608765)",
          "(0.0, 0.180054172873497)",
          "(0.0, 1.6647617816925049)",
          "(0.0, 1.6953665018081665)",
          "(0.0, 2.1354262828826904)",
          "(0.0, 2.1366710662841797)",
          "(0.0, 2.2981369495391846)",
          "(0.0, 2.373204231262207)",
          "(0.0, 2.505033493041992)",
          "(0.0, 2.5054612159729004)",
          "(0.0, 2.5058043003082275)",
          "(0.0, 2.5295326709747314)",
          "(0.0, 2.6975293159484863)",
          "(0.0, 2.709918975830078)",
          "(0.0, 2.7856521606445312)",
          "(0.0, 2.8222808837890625)",
          "(0.0, 2.8581554889678955)",
          "(0.0, 2.934986114501953)",
          "(0.0, 2.9796864986419678)",
          "(0.0, 3.1515085697174072)",
          "(0.0, 3.1823248863220215)",
          "(0.0, 3.4829845428466797)",
          "(0.0, 4.025177478790283)"
         ],
         "mode": "markers",
         "name": "H0",
         "type": "scatter",
         "x": [
          0,
          0,
          0,
          0,
          0,
          0,
          0,
          0,
          0,
          0,
          0,
          0,
          0,
          0,
          0,
          0,
          0,
          0,
          0,
          0,
          0,
          0,
          0,
          0,
          0,
          0,
          0,
          0,
          0,
          0,
          0,
          0,
          0,
          0,
          0,
          0,
          0,
          0,
          0,
          0,
          0,
          0,
          0,
          0,
          0,
          0,
          0,
          0,
          0,
          0,
          0,
          0,
          0,
          0,
          0,
          0,
          0,
          0,
          0,
          0,
          0,
          0,
          0,
          0,
          0,
          0,
          0,
          0,
          0,
          0,
          0,
          0,
          0,
          0,
          0,
          0,
          0,
          0,
          0,
          0,
          0,
          0,
          0,
          0,
          0,
          0,
          0,
          0,
          0,
          0,
          0,
          0,
          0,
          0,
          0,
          0,
          0,
          0,
          0
         ],
         "y": [
          0.029727157205343246,
          0.02973044663667679,
          0.029765993356704712,
          0.029774285852909088,
          0.029846016317605972,
          0.02985762618482113,
          0.02992907539010048,
          0.029940752312541008,
          0.029940752312541008,
          0.029952213168144226,
          0.03001350164413452,
          0.030022019520401955,
          0.030022019520401955,
          0.030029937624931335,
          0.0300593301653862,
          0.030062977224588394,
          0.030062977224588394,
          0.030065830796957016,
          0.05943530797958374,
          0.0594361387193203,
          0.0594361387193203,
          0.05943863093852997,
          0.05944277346134186,
          0.05945592001080513,
          0.05946485698223114,
          0.05947531759738922,
          0.05947531759738922,
          0.059487249702215195,
          0.059487249702215195,
          0.059500593692064285,
          0.05951528623700142,
          0.059548430144786835,
          0.05956672132015228,
          0.059586040675640106,
          0.059586040675640106,
          0.05960629880428314,
          0.05960629880428314,
          0.05962739884853363,
          0.05962739884853363,
          0.059649232774972916,
          0.05967170000076294,
          0.05971810594201088,
          0.05974181741476059,
          0.05976572260260582,
          0.05978970229625702,
          0.05978970229625702,
          0.059813644737005234,
          0.05983743444085121,
          0.059906765818595886,
          0.059928830713033676,
          0.059928830713033676,
          0.059950198978185654,
          0.059950198978185654,
          0.05997076630592346,
          0.05997076630592346,
          0.05999043583869934,
          0.06000911816954613,
          0.06005837023258209,
          0.060072265565395355,
          0.060084786266088486,
          0.060084786266088486,
          0.06009587273001671,
          0.06010547652840614,
          0.0601249560713768,
          0.060128238052129745,
          0.06012988090515137,
          0.06012988090515137,
          0.1188262477517128,
          0.11899156868457794,
          0.11965057998895645,
          0.1780623346567154,
          0.1783100813627243,
          0.1787996143102646,
          0.17886973917484283,
          0.17929761111736298,
          0.1797941029071808,
          0.17984336614608765,
          0.180054172873497,
          1.6647617816925049,
          1.6953665018081665,
          2.1354262828826904,
          2.1366710662841797,
          2.2981369495391846,
          2.373204231262207,
          2.505033493041992,
          2.5054612159729004,
          2.5058043003082275,
          2.5295326709747314,
          2.6975293159484863,
          2.709918975830078,
          2.7856521606445312,
          2.8222808837890625,
          2.8581554889678955,
          2.934986114501953,
          2.9796864986419678,
          3.1515085697174072,
          3.1823248863220215,
          3.4829845428466797,
          4.025177478790283
         ]
        },
        {
         "hoverinfo": "text",
         "hovertext": [
          "(3.6339211463928223, 3.663182497024536)",
          "(3.591644287109375, 5.925660610198975)",
          "(3.147805690765381, 3.353588581085205)",
          "(2.8658287525177, 2.872670888900757)",
          "(2.8340752124786377, 2.8659472465515137)",
          "(0.18007364869117737, 1.5024265050888062)"
         ],
         "mode": "markers",
         "name": "H1",
         "type": "scatter",
         "x": [
          3.6339211463928223,
          3.591644287109375,
          3.147805690765381,
          2.8658287525177,
          2.8340752124786377,
          0.18007364869117737
         ],
         "y": [
          3.663182497024536,
          5.925660610198975,
          3.353588581085205,
          2.872670888900757,
          2.8659472465515137,
          1.5024265050888062
         ]
        },
        {
         "hoverinfo": "text",
         "hovertext": [
          "(1.5145087242126465, 1.5161149501800537)",
          "(1.5145087242126465, 1.5155599117279053)",
          "(1.5140177011489868, 1.516685962677002)",
          "(1.5127103328704834, 1.5184681415557861)",
          "(1.5123368501663208, 1.5178654193878174)",
          "(1.5119976997375488, 1.5644428730010986)",
          "(1.5119976997375488, 1.5196852684020996)",
          "(1.5116944313049316, 1.5202937126159668)",
          "(1.5116944313049316, 1.5190757513046265)",
          "(1.5114285945892334, 1.520898461341858)",
          "(1.510762095451355, 1.5220847129821777)",
          "(1.510698676109314, 1.5237646102905273)",
          "(1.510698676109314, 1.5226606130599976)",
          "(1.510677456855774, 1.523221492767334)",
          "(1.5071954727172852, 1.5646368265151978)",
          "(1.5071954727172852, 1.5110139846801758)",
          "(1.5066076517105103, 1.5666195154190063)",
          "(1.5030109882354736, 1.5131163597106934)"
         ],
         "mode": "markers",
         "name": "H2",
         "type": "scatter",
         "x": [
          1.5145087242126465,
          1.5145087242126465,
          1.5140177011489868,
          1.5127103328704834,
          1.5123368501663208,
          1.5119976997375488,
          1.5119976997375488,
          1.5116944313049316,
          1.5116944313049316,
          1.5114285945892334,
          1.510762095451355,
          1.510698676109314,
          1.510698676109314,
          1.510677456855774,
          1.5071954727172852,
          1.5071954727172852,
          1.5066076517105103,
          1.5030109882354736
         ],
         "y": [
          1.5161149501800537,
          1.5155599117279053,
          1.516685962677002,
          1.5184681415557861,
          1.5178654193878174,
          1.5644428730010986,
          1.5196852684020996,
          1.5202937126159668,
          1.5190757513046265,
          1.520898461341858,
          1.5220847129821777,
          1.5237646102905273,
          1.5226606130599976,
          1.523221492767334,
          1.5646368265151978,
          1.5110139846801758,
          1.5666195154190063,
          1.5131163597106934
         ]
        }
       ],
       "layout": {
        "height": 500,
        "plot_bgcolor": "white",
        "template": {
         "data": {
          "bar": [
           {
            "error_x": {
             "color": "#2a3f5f"
            },
            "error_y": {
             "color": "#2a3f5f"
            },
            "marker": {
             "line": {
              "color": "#E5ECF6",
              "width": 0.5
             },
             "pattern": {
              "fillmode": "overlay",
              "size": 10,
              "solidity": 0.2
             }
            },
            "type": "bar"
           }
          ],
          "barpolar": [
           {
            "marker": {
             "line": {
              "color": "#E5ECF6",
              "width": 0.5
             },
             "pattern": {
              "fillmode": "overlay",
              "size": 10,
              "solidity": 0.2
             }
            },
            "type": "barpolar"
           }
          ],
          "carpet": [
           {
            "aaxis": {
             "endlinecolor": "#2a3f5f",
             "gridcolor": "white",
             "linecolor": "white",
             "minorgridcolor": "white",
             "startlinecolor": "#2a3f5f"
            },
            "baxis": {
             "endlinecolor": "#2a3f5f",
             "gridcolor": "white",
             "linecolor": "white",
             "minorgridcolor": "white",
             "startlinecolor": "#2a3f5f"
            },
            "type": "carpet"
           }
          ],
          "choropleth": [
           {
            "colorbar": {
             "outlinewidth": 0,
             "ticks": ""
            },
            "type": "choropleth"
           }
          ],
          "contour": [
           {
            "colorbar": {
             "outlinewidth": 0,
             "ticks": ""
            },
            "colorscale": [
             [
              0,
              "#0d0887"
             ],
             [
              0.1111111111111111,
              "#46039f"
             ],
             [
              0.2222222222222222,
              "#7201a8"
             ],
             [
              0.3333333333333333,
              "#9c179e"
             ],
             [
              0.4444444444444444,
              "#bd3786"
             ],
             [
              0.5555555555555556,
              "#d8576b"
             ],
             [
              0.6666666666666666,
              "#ed7953"
             ],
             [
              0.7777777777777778,
              "#fb9f3a"
             ],
             [
              0.8888888888888888,
              "#fdca26"
             ],
             [
              1,
              "#f0f921"
             ]
            ],
            "type": "contour"
           }
          ],
          "contourcarpet": [
           {
            "colorbar": {
             "outlinewidth": 0,
             "ticks": ""
            },
            "type": "contourcarpet"
           }
          ],
          "heatmap": [
           {
            "colorbar": {
             "outlinewidth": 0,
             "ticks": ""
            },
            "colorscale": [
             [
              0,
              "#0d0887"
             ],
             [
              0.1111111111111111,
              "#46039f"
             ],
             [
              0.2222222222222222,
              "#7201a8"
             ],
             [
              0.3333333333333333,
              "#9c179e"
             ],
             [
              0.4444444444444444,
              "#bd3786"
             ],
             [
              0.5555555555555556,
              "#d8576b"
             ],
             [
              0.6666666666666666,
              "#ed7953"
             ],
             [
              0.7777777777777778,
              "#fb9f3a"
             ],
             [
              0.8888888888888888,
              "#fdca26"
             ],
             [
              1,
              "#f0f921"
             ]
            ],
            "type": "heatmap"
           }
          ],
          "heatmapgl": [
           {
            "colorbar": {
             "outlinewidth": 0,
             "ticks": ""
            },
            "colorscale": [
             [
              0,
              "#0d0887"
             ],
             [
              0.1111111111111111,
              "#46039f"
             ],
             [
              0.2222222222222222,
              "#7201a8"
             ],
             [
              0.3333333333333333,
              "#9c179e"
             ],
             [
              0.4444444444444444,
              "#bd3786"
             ],
             [
              0.5555555555555556,
              "#d8576b"
             ],
             [
              0.6666666666666666,
              "#ed7953"
             ],
             [
              0.7777777777777778,
              "#fb9f3a"
             ],
             [
              0.8888888888888888,
              "#fdca26"
             ],
             [
              1,
              "#f0f921"
             ]
            ],
            "type": "heatmapgl"
           }
          ],
          "histogram": [
           {
            "marker": {
             "pattern": {
              "fillmode": "overlay",
              "size": 10,
              "solidity": 0.2
             }
            },
            "type": "histogram"
           }
          ],
          "histogram2d": [
           {
            "colorbar": {
             "outlinewidth": 0,
             "ticks": ""
            },
            "colorscale": [
             [
              0,
              "#0d0887"
             ],
             [
              0.1111111111111111,
              "#46039f"
             ],
             [
              0.2222222222222222,
              "#7201a8"
             ],
             [
              0.3333333333333333,
              "#9c179e"
             ],
             [
              0.4444444444444444,
              "#bd3786"
             ],
             [
              0.5555555555555556,
              "#d8576b"
             ],
             [
              0.6666666666666666,
              "#ed7953"
             ],
             [
              0.7777777777777778,
              "#fb9f3a"
             ],
             [
              0.8888888888888888,
              "#fdca26"
             ],
             [
              1,
              "#f0f921"
             ]
            ],
            "type": "histogram2d"
           }
          ],
          "histogram2dcontour": [
           {
            "colorbar": {
             "outlinewidth": 0,
             "ticks": ""
            },
            "colorscale": [
             [
              0,
              "#0d0887"
             ],
             [
              0.1111111111111111,
              "#46039f"
             ],
             [
              0.2222222222222222,
              "#7201a8"
             ],
             [
              0.3333333333333333,
              "#9c179e"
             ],
             [
              0.4444444444444444,
              "#bd3786"
             ],
             [
              0.5555555555555556,
              "#d8576b"
             ],
             [
              0.6666666666666666,
              "#ed7953"
             ],
             [
              0.7777777777777778,
              "#fb9f3a"
             ],
             [
              0.8888888888888888,
              "#fdca26"
             ],
             [
              1,
              "#f0f921"
             ]
            ],
            "type": "histogram2dcontour"
           }
          ],
          "mesh3d": [
           {
            "colorbar": {
             "outlinewidth": 0,
             "ticks": ""
            },
            "type": "mesh3d"
           }
          ],
          "parcoords": [
           {
            "line": {
             "colorbar": {
              "outlinewidth": 0,
              "ticks": ""
             }
            },
            "type": "parcoords"
           }
          ],
          "pie": [
           {
            "automargin": true,
            "type": "pie"
           }
          ],
          "scatter": [
           {
            "fillpattern": {
             "fillmode": "overlay",
             "size": 10,
             "solidity": 0.2
            },
            "type": "scatter"
           }
          ],
          "scatter3d": [
           {
            "line": {
             "colorbar": {
              "outlinewidth": 0,
              "ticks": ""
             }
            },
            "marker": {
             "colorbar": {
              "outlinewidth": 0,
              "ticks": ""
             }
            },
            "type": "scatter3d"
           }
          ],
          "scattercarpet": [
           {
            "marker": {
             "colorbar": {
              "outlinewidth": 0,
              "ticks": ""
             }
            },
            "type": "scattercarpet"
           }
          ],
          "scattergeo": [
           {
            "marker": {
             "colorbar": {
              "outlinewidth": 0,
              "ticks": ""
             }
            },
            "type": "scattergeo"
           }
          ],
          "scattergl": [
           {
            "marker": {
             "colorbar": {
              "outlinewidth": 0,
              "ticks": ""
             }
            },
            "type": "scattergl"
           }
          ],
          "scattermapbox": [
           {
            "marker": {
             "colorbar": {
              "outlinewidth": 0,
              "ticks": ""
             }
            },
            "type": "scattermapbox"
           }
          ],
          "scatterpolar": [
           {
            "marker": {
             "colorbar": {
              "outlinewidth": 0,
              "ticks": ""
             }
            },
            "type": "scatterpolar"
           }
          ],
          "scatterpolargl": [
           {
            "marker": {
             "colorbar": {
              "outlinewidth": 0,
              "ticks": ""
             }
            },
            "type": "scatterpolargl"
           }
          ],
          "scatterternary": [
           {
            "marker": {
             "colorbar": {
              "outlinewidth": 0,
              "ticks": ""
             }
            },
            "type": "scatterternary"
           }
          ],
          "surface": [
           {
            "colorbar": {
             "outlinewidth": 0,
             "ticks": ""
            },
            "colorscale": [
             [
              0,
              "#0d0887"
             ],
             [
              0.1111111111111111,
              "#46039f"
             ],
             [
              0.2222222222222222,
              "#7201a8"
             ],
             [
              0.3333333333333333,
              "#9c179e"
             ],
             [
              0.4444444444444444,
              "#bd3786"
             ],
             [
              0.5555555555555556,
              "#d8576b"
             ],
             [
              0.6666666666666666,
              "#ed7953"
             ],
             [
              0.7777777777777778,
              "#fb9f3a"
             ],
             [
              0.8888888888888888,
              "#fdca26"
             ],
             [
              1,
              "#f0f921"
             ]
            ],
            "type": "surface"
           }
          ],
          "table": [
           {
            "cells": {
             "fill": {
              "color": "#EBF0F8"
             },
             "line": {
              "color": "white"
             }
            },
            "header": {
             "fill": {
              "color": "#C8D4E3"
             },
             "line": {
              "color": "white"
             }
            },
            "type": "table"
           }
          ]
         },
         "layout": {
          "annotationdefaults": {
           "arrowcolor": "#2a3f5f",
           "arrowhead": 0,
           "arrowwidth": 1
          },
          "autotypenumbers": "strict",
          "coloraxis": {
           "colorbar": {
            "outlinewidth": 0,
            "ticks": ""
           }
          },
          "colorscale": {
           "diverging": [
            [
             0,
             "#8e0152"
            ],
            [
             0.1,
             "#c51b7d"
            ],
            [
             0.2,
             "#de77ae"
            ],
            [
             0.3,
             "#f1b6da"
            ],
            [
             0.4,
             "#fde0ef"
            ],
            [
             0.5,
             "#f7f7f7"
            ],
            [
             0.6,
             "#e6f5d0"
            ],
            [
             0.7,
             "#b8e186"
            ],
            [
             0.8,
             "#7fbc41"
            ],
            [
             0.9,
             "#4d9221"
            ],
            [
             1,
             "#276419"
            ]
           ],
           "sequential": [
            [
             0,
             "#0d0887"
            ],
            [
             0.1111111111111111,
             "#46039f"
            ],
            [
             0.2222222222222222,
             "#7201a8"
            ],
            [
             0.3333333333333333,
             "#9c179e"
            ],
            [
             0.4444444444444444,
             "#bd3786"
            ],
            [
             0.5555555555555556,
             "#d8576b"
            ],
            [
             0.6666666666666666,
             "#ed7953"
            ],
            [
             0.7777777777777778,
             "#fb9f3a"
            ],
            [
             0.8888888888888888,
             "#fdca26"
            ],
            [
             1,
             "#f0f921"
            ]
           ],
           "sequentialminus": [
            [
             0,
             "#0d0887"
            ],
            [
             0.1111111111111111,
             "#46039f"
            ],
            [
             0.2222222222222222,
             "#7201a8"
            ],
            [
             0.3333333333333333,
             "#9c179e"
            ],
            [
             0.4444444444444444,
             "#bd3786"
            ],
            [
             0.5555555555555556,
             "#d8576b"
            ],
            [
             0.6666666666666666,
             "#ed7953"
            ],
            [
             0.7777777777777778,
             "#fb9f3a"
            ],
            [
             0.8888888888888888,
             "#fdca26"
            ],
            [
             1,
             "#f0f921"
            ]
           ]
          },
          "colorway": [
           "#636efa",
           "#EF553B",
           "#00cc96",
           "#ab63fa",
           "#FFA15A",
           "#19d3f3",
           "#FF6692",
           "#B6E880",
           "#FF97FF",
           "#FECB52"
          ],
          "font": {
           "color": "#2a3f5f"
          },
          "geo": {
           "bgcolor": "white",
           "lakecolor": "white",
           "landcolor": "#E5ECF6",
           "showlakes": true,
           "showland": true,
           "subunitcolor": "white"
          },
          "hoverlabel": {
           "align": "left"
          },
          "hovermode": "closest",
          "mapbox": {
           "style": "light"
          },
          "paper_bgcolor": "white",
          "plot_bgcolor": "#E5ECF6",
          "polar": {
           "angularaxis": {
            "gridcolor": "white",
            "linecolor": "white",
            "ticks": ""
           },
           "bgcolor": "#E5ECF6",
           "radialaxis": {
            "gridcolor": "white",
            "linecolor": "white",
            "ticks": ""
           }
          },
          "scene": {
           "xaxis": {
            "backgroundcolor": "#E5ECF6",
            "gridcolor": "white",
            "gridwidth": 2,
            "linecolor": "white",
            "showbackground": true,
            "ticks": "",
            "zerolinecolor": "white"
           },
           "yaxis": {
            "backgroundcolor": "#E5ECF6",
            "gridcolor": "white",
            "gridwidth": 2,
            "linecolor": "white",
            "showbackground": true,
            "ticks": "",
            "zerolinecolor": "white"
           },
           "zaxis": {
            "backgroundcolor": "#E5ECF6",
            "gridcolor": "white",
            "gridwidth": 2,
            "linecolor": "white",
            "showbackground": true,
            "ticks": "",
            "zerolinecolor": "white"
           }
          },
          "shapedefaults": {
           "line": {
            "color": "#2a3f5f"
           }
          },
          "ternary": {
           "aaxis": {
            "gridcolor": "white",
            "linecolor": "white",
            "ticks": ""
           },
           "baxis": {
            "gridcolor": "white",
            "linecolor": "white",
            "ticks": ""
           },
           "bgcolor": "#E5ECF6",
           "caxis": {
            "gridcolor": "white",
            "linecolor": "white",
            "ticks": ""
           }
          },
          "title": {
           "x": 0.05
          },
          "xaxis": {
           "automargin": true,
           "gridcolor": "white",
           "linecolor": "white",
           "ticks": "",
           "title": {
            "standoff": 15
           },
           "zerolinecolor": "white",
           "zerolinewidth": 2
          },
          "yaxis": {
           "automargin": true,
           "gridcolor": "white",
           "linecolor": "white",
           "ticks": "",
           "title": {
            "standoff": 15
           },
           "zerolinecolor": "white",
           "zerolinewidth": 2
          }
         }
        },
        "width": 500,
        "xaxis": {
         "autorange": false,
         "exponentformat": "e",
         "linecolor": "black",
         "linewidth": 1,
         "mirror": false,
         "range": [
          -0.11851321220397949,
          6.044173822402954
         ],
         "showexponent": "all",
         "showline": true,
         "side": "bottom",
         "ticks": "outside",
         "title": {
          "text": "Birth"
         },
         "type": "linear",
         "zeroline": true
        },
        "yaxis": {
         "autorange": false,
         "exponentformat": "e",
         "linecolor": "black",
         "linewidth": 1,
         "mirror": false,
         "range": [
          -0.11851321220397949,
          6.044173822402954
         ],
         "scaleanchor": "x",
         "scaleratio": 1,
         "showexponent": "all",
         "showline": true,
         "side": "left",
         "ticks": "outside",
         "title": {
          "text": "Death"
         },
         "type": "linear",
         "zeroline": true
        }
       }
      }
     },
     "metadata": {},
     "output_type": "display_data"
    }
   ],
   "source": [
    "# ------------------------------------------------\n",
    "\n",
    "mi_tda = AnalisisTDA(embedding_type = \"STK\", univariate = True, option_uni = 2)\n",
    "X_univariate = df_for_pers_dgms[\"precio_frambuesa\"].values\n",
    "\n",
    "# homologia_persistente(self, datos, embedding_dimension = 2, embedding_time_delay = 1, window_size = 100,  stride = 4)\n",
    "embedding_dimension = 10\n",
    "embedding_time_delay = 3\n",
    "stride = 3\n",
    "diagrama_sint, features, plot_cloud = mi_tda.homologia_persistente(X_univariate, embedding_dimension = embedding_dimension, embedding_time_delay = embedding_time_delay, window_size = 100,  stride = stride)\n",
    "\n",
    "# plots\n",
    "plot_diagram(diagrama_sint)"
   ]
  },
  {
   "cell_type": "markdown",
   "id": "8667b830",
   "metadata": {},
   "source": [
    "![alt text](imgs/pers_d_sint.png \"Title\")"
   ]
  },
  {
   "cell_type": "markdown",
   "id": "8e23b13c",
   "metadata": {},
   "source": [
    "# PARA LOS DATOS REALES"
   ]
  },
  {
   "cell_type": "code",
   "execution_count": 89,
   "id": "f059f353",
   "metadata": {},
   "outputs": [
    {
     "data": {
      "application/vnd.plotly.v1+json": {
       "config": {
        "plotlyServerURL": "https://plot.ly"
       },
       "data": [
        {
         "hoverinfo": "none",
         "line": {
          "color": "black",
          "dash": "dash",
          "width": 1
         },
         "mode": "lines",
         "showlegend": false,
         "type": "scatter",
         "x": [
          -0.033311727046966555,
          1.6988980793952941
         ],
         "y": [
          -0.033311727046966555,
          1.6988980793952941
         ]
        },
        {
         "hoverinfo": "text",
         "hovertext": [
          "(0.0, 0.02137697860598564)",
          "(0.0, 0.0286959670484066)",
          "(0.0, 0.057020317763090134)",
          "(0.0, 0.05914728343486786)",
          "(0.0, 0.06749674677848816)",
          "(0.0, 0.08407627791166306)",
          "(0.0, 0.0852188840508461)",
          "(0.0, 0.08864597231149673)",
          "(0.0, 0.09762189537286758)",
          "(0.0, 0.1050664559006691)",
          "(0.0, 0.10620007663965225)",
          "(0.0, 0.10620865970849991)",
          "(0.0, 0.10631024837493896)",
          "(0.0, 0.10983145982027054)",
          "(0.0, 0.11130142956972122)",
          "(0.0, 0.1190313845872879)",
          "(0.0, 0.11920847743749619)",
          "(0.0, 0.11953040212392807)",
          "(0.0, 0.12463803589344025)",
          "(0.0, 0.12483525276184082)",
          "(0.0, 0.12602873146533966)",
          "(0.0, 0.13558226823806763)",
          "(0.0, 0.14046195149421692)",
          "(0.0, 0.15155744552612305)",
          "(0.0, 0.15689632296562195)",
          "(0.0, 0.16012516617774963)",
          "(0.0, 0.1649864763021469)",
          "(0.0, 0.16667675971984863)",
          "(0.0, 0.17184877395629883)",
          "(0.0, 0.17847278714179993)",
          "(0.0, 0.19027653336524963)",
          "(0.0, 0.1913832426071167)",
          "(0.0, 0.19381962716579437)",
          "(0.0, 0.19432333111763)",
          "(0.0, 0.19700784981250763)",
          "(0.0, 0.19893188774585724)",
          "(0.0, 0.19952736794948578)",
          "(0.0, 0.2020120769739151)",
          "(0.0, 0.20626629889011383)",
          "(0.0, 0.20945017039775848)",
          "(0.0, 0.21853162348270416)",
          "(0.0, 0.2381519228219986)",
          "(0.0, 0.24222873151302338)",
          "(0.0, 0.24804861843585968)",
          "(0.0, 0.2501693665981293)",
          "(0.0, 0.25172165036201477)",
          "(0.0, 0.28220200538635254)",
          "(0.0, 0.28725847601890564)",
          "(0.0, 0.2888377010822296)",
          "(0.0, 0.31611305475234985)",
          "(0.0, 0.32217276096343994)",
          "(0.0, 0.32284635305404663)",
          "(0.0, 0.3247487246990204)",
          "(0.0, 0.3274575471878052)",
          "(0.0, 0.32884538173675537)",
          "(0.0, 0.33213305473327637)",
          "(0.0, 0.34678539633750916)",
          "(0.0, 0.35438910126686096)",
          "(0.0, 0.35796812176704407)",
          "(0.0, 0.36730411648750305)",
          "(0.0, 0.3693079650402069)",
          "(0.0, 0.3764517307281494)",
          "(0.0, 0.3854093551635742)",
          "(0.0, 0.38936424255371094)",
          "(0.0, 0.4067482650279999)",
          "(0.0, 0.4228519797325134)",
          "(0.0, 0.42456844449043274)",
          "(0.0, 0.4256061017513275)",
          "(0.0, 0.42674341797828674)",
          "(0.0, 0.44285833835601807)",
          "(0.0, 0.4623710811138153)",
          "(0.0, 0.48185551166534424)",
          "(0.0, 0.49983158707618713)",
          "(0.0, 0.5097005367279053)",
          "(0.0, 0.5312872529029846)",
          "(0.0, 0.5537487864494324)",
          "(0.0, 0.5769535303115845)",
          "(0.0, 0.5919187068939209)",
          "(0.0, 0.6005949378013611)",
          "(0.0, 0.7041619420051575)",
          "(0.0, 0.7274489402770996)",
          "(0.0, 0.7545661926269531)",
          "(0.0, 0.7679803371429443)",
          "(0.0, 0.8123749494552612)",
          "(0.0, 0.8552083373069763)",
          "(0.0, 0.883456289768219)",
          "(0.0, 0.9239547848701477)",
          "(0.0, 0.9622913002967834)",
          "(0.0, 0.9696896076202393)",
          "(0.0, 1.0329971313476562)",
          "(0.0, 1.0626786947250366)",
          "(0.0, 1.1173681020736694)",
          "(0.0, 1.220086932182312)",
          "(0.0, 1.3570051193237305)",
          "(0.0, 1.374703049659729)",
          "(0.0, 1.4391059875488281)",
          "(0.0, 1.5981135368347168)",
          "(0.0, 1.6485035419464111)",
          "(0.0, 1.6655863523483276)"
         ],
         "mode": "markers",
         "name": "H0",
         "type": "scatter",
         "x": [
          0,
          0,
          0,
          0,
          0,
          0,
          0,
          0,
          0,
          0,
          0,
          0,
          0,
          0,
          0,
          0,
          0,
          0,
          0,
          0,
          0,
          0,
          0,
          0,
          0,
          0,
          0,
          0,
          0,
          0,
          0,
          0,
          0,
          0,
          0,
          0,
          0,
          0,
          0,
          0,
          0,
          0,
          0,
          0,
          0,
          0,
          0,
          0,
          0,
          0,
          0,
          0,
          0,
          0,
          0,
          0,
          0,
          0,
          0,
          0,
          0,
          0,
          0,
          0,
          0,
          0,
          0,
          0,
          0,
          0,
          0,
          0,
          0,
          0,
          0,
          0,
          0,
          0,
          0,
          0,
          0,
          0,
          0,
          0,
          0,
          0,
          0,
          0,
          0,
          0,
          0,
          0,
          0,
          0,
          0,
          0,
          0,
          0,
          0
         ],
         "y": [
          0.02137697860598564,
          0.0286959670484066,
          0.057020317763090134,
          0.05914728343486786,
          0.06749674677848816,
          0.08407627791166306,
          0.0852188840508461,
          0.08864597231149673,
          0.09762189537286758,
          0.1050664559006691,
          0.10620007663965225,
          0.10620865970849991,
          0.10631024837493896,
          0.10983145982027054,
          0.11130142956972122,
          0.1190313845872879,
          0.11920847743749619,
          0.11953040212392807,
          0.12463803589344025,
          0.12483525276184082,
          0.12602873146533966,
          0.13558226823806763,
          0.14046195149421692,
          0.15155744552612305,
          0.15689632296562195,
          0.16012516617774963,
          0.1649864763021469,
          0.16667675971984863,
          0.17184877395629883,
          0.17847278714179993,
          0.19027653336524963,
          0.1913832426071167,
          0.19381962716579437,
          0.19432333111763,
          0.19700784981250763,
          0.19893188774585724,
          0.19952736794948578,
          0.2020120769739151,
          0.20626629889011383,
          0.20945017039775848,
          0.21853162348270416,
          0.2381519228219986,
          0.24222873151302338,
          0.24804861843585968,
          0.2501693665981293,
          0.25172165036201477,
          0.28220200538635254,
          0.28725847601890564,
          0.2888377010822296,
          0.31611305475234985,
          0.32217276096343994,
          0.32284635305404663,
          0.3247487246990204,
          0.3274575471878052,
          0.32884538173675537,
          0.33213305473327637,
          0.34678539633750916,
          0.35438910126686096,
          0.35796812176704407,
          0.36730411648750305,
          0.3693079650402069,
          0.3764517307281494,
          0.3854093551635742,
          0.38936424255371094,
          0.4067482650279999,
          0.4228519797325134,
          0.42456844449043274,
          0.4256061017513275,
          0.42674341797828674,
          0.44285833835601807,
          0.4623710811138153,
          0.48185551166534424,
          0.49983158707618713,
          0.5097005367279053,
          0.5312872529029846,
          0.5537487864494324,
          0.5769535303115845,
          0.5919187068939209,
          0.6005949378013611,
          0.7041619420051575,
          0.7274489402770996,
          0.7545661926269531,
          0.7679803371429443,
          0.8123749494552612,
          0.8552083373069763,
          0.883456289768219,
          0.9239547848701477,
          0.9622913002967834,
          0.9696896076202393,
          1.0329971313476562,
          1.0626786947250366,
          1.1173681020736694,
          1.220086932182312,
          1.3570051193237305,
          1.374703049659729,
          1.4391059875488281,
          1.5981135368347168,
          1.6485035419464111,
          1.6655863523483276
         ]
        },
        {
         "hoverinfo": "text",
         "hovertext": [
          "(1.1083531379699707, 1.1541582345962524)",
          "(1.037432312965393, 1.0720192193984985)",
          "(0.7320104241371155, 0.7620499134063721)",
          "(0.5950807332992554, 0.7338016033172607)",
          "(0.5881603956222534, 0.6904095411300659)",
          "(0.5879782438278198, 0.5987558960914612)",
          "(0.5769002437591553, 0.5848147869110107)",
          "(0.563687264919281, 0.5891349911689758)",
          "(0.5166780352592468, 0.5344849228858948)",
          "(0.5051525831222534, 0.5253535509109497)",
          "(0.4700828492641449, 0.5300031304359436)",
          "(0.4562217593193054, 0.49170154333114624)",
          "(0.4491986334323883, 0.5593024492263794)",
          "(0.3511579930782318, 0.36057981848716736)",
          "(0.2030811309814453, 0.20658543705940247)",
          "(0.12564286589622498, 0.1290629655122757)"
         ],
         "mode": "markers",
         "name": "H1",
         "type": "scatter",
         "x": [
          1.1083531379699707,
          1.037432312965393,
          0.7320104241371155,
          0.5950807332992554,
          0.5881603956222534,
          0.5879782438278198,
          0.5769002437591553,
          0.563687264919281,
          0.5166780352592468,
          0.5051525831222534,
          0.4700828492641449,
          0.4562217593193054,
          0.4491986334323883,
          0.3511579930782318,
          0.2030811309814453,
          0.12564286589622498
         ],
         "y": [
          1.1541582345962524,
          1.0720192193984985,
          0.7620499134063721,
          0.7338016033172607,
          0.6904095411300659,
          0.5987558960914612,
          0.5848147869110107,
          0.5891349911689758,
          0.5344849228858948,
          0.5253535509109497,
          0.5300031304359436,
          0.49170154333114624,
          0.5593024492263794,
          0.36057981848716736,
          0.20658543705940247,
          0.1290629655122757
         ]
        },
        {
         "hoverinfo": "text",
         "hovertext": [
          "(0.6056993007659912, 0.6283690333366394)"
         ],
         "mode": "markers",
         "name": "H2",
         "type": "scatter",
         "x": [
          0.6056993007659912
         ],
         "y": [
          0.6283690333366394
         ]
        }
       ],
       "layout": {
        "height": 500,
        "plot_bgcolor": "white",
        "template": {
         "data": {
          "bar": [
           {
            "error_x": {
             "color": "#2a3f5f"
            },
            "error_y": {
             "color": "#2a3f5f"
            },
            "marker": {
             "line": {
              "color": "#E5ECF6",
              "width": 0.5
             },
             "pattern": {
              "fillmode": "overlay",
              "size": 10,
              "solidity": 0.2
             }
            },
            "type": "bar"
           }
          ],
          "barpolar": [
           {
            "marker": {
             "line": {
              "color": "#E5ECF6",
              "width": 0.5
             },
             "pattern": {
              "fillmode": "overlay",
              "size": 10,
              "solidity": 0.2
             }
            },
            "type": "barpolar"
           }
          ],
          "carpet": [
           {
            "aaxis": {
             "endlinecolor": "#2a3f5f",
             "gridcolor": "white",
             "linecolor": "white",
             "minorgridcolor": "white",
             "startlinecolor": "#2a3f5f"
            },
            "baxis": {
             "endlinecolor": "#2a3f5f",
             "gridcolor": "white",
             "linecolor": "white",
             "minorgridcolor": "white",
             "startlinecolor": "#2a3f5f"
            },
            "type": "carpet"
           }
          ],
          "choropleth": [
           {
            "colorbar": {
             "outlinewidth": 0,
             "ticks": ""
            },
            "type": "choropleth"
           }
          ],
          "contour": [
           {
            "colorbar": {
             "outlinewidth": 0,
             "ticks": ""
            },
            "colorscale": [
             [
              0,
              "#0d0887"
             ],
             [
              0.1111111111111111,
              "#46039f"
             ],
             [
              0.2222222222222222,
              "#7201a8"
             ],
             [
              0.3333333333333333,
              "#9c179e"
             ],
             [
              0.4444444444444444,
              "#bd3786"
             ],
             [
              0.5555555555555556,
              "#d8576b"
             ],
             [
              0.6666666666666666,
              "#ed7953"
             ],
             [
              0.7777777777777778,
              "#fb9f3a"
             ],
             [
              0.8888888888888888,
              "#fdca26"
             ],
             [
              1,
              "#f0f921"
             ]
            ],
            "type": "contour"
           }
          ],
          "contourcarpet": [
           {
            "colorbar": {
             "outlinewidth": 0,
             "ticks": ""
            },
            "type": "contourcarpet"
           }
          ],
          "heatmap": [
           {
            "colorbar": {
             "outlinewidth": 0,
             "ticks": ""
            },
            "colorscale": [
             [
              0,
              "#0d0887"
             ],
             [
              0.1111111111111111,
              "#46039f"
             ],
             [
              0.2222222222222222,
              "#7201a8"
             ],
             [
              0.3333333333333333,
              "#9c179e"
             ],
             [
              0.4444444444444444,
              "#bd3786"
             ],
             [
              0.5555555555555556,
              "#d8576b"
             ],
             [
              0.6666666666666666,
              "#ed7953"
             ],
             [
              0.7777777777777778,
              "#fb9f3a"
             ],
             [
              0.8888888888888888,
              "#fdca26"
             ],
             [
              1,
              "#f0f921"
             ]
            ],
            "type": "heatmap"
           }
          ],
          "heatmapgl": [
           {
            "colorbar": {
             "outlinewidth": 0,
             "ticks": ""
            },
            "colorscale": [
             [
              0,
              "#0d0887"
             ],
             [
              0.1111111111111111,
              "#46039f"
             ],
             [
              0.2222222222222222,
              "#7201a8"
             ],
             [
              0.3333333333333333,
              "#9c179e"
             ],
             [
              0.4444444444444444,
              "#bd3786"
             ],
             [
              0.5555555555555556,
              "#d8576b"
             ],
             [
              0.6666666666666666,
              "#ed7953"
             ],
             [
              0.7777777777777778,
              "#fb9f3a"
             ],
             [
              0.8888888888888888,
              "#fdca26"
             ],
             [
              1,
              "#f0f921"
             ]
            ],
            "type": "heatmapgl"
           }
          ],
          "histogram": [
           {
            "marker": {
             "pattern": {
              "fillmode": "overlay",
              "size": 10,
              "solidity": 0.2
             }
            },
            "type": "histogram"
           }
          ],
          "histogram2d": [
           {
            "colorbar": {
             "outlinewidth": 0,
             "ticks": ""
            },
            "colorscale": [
             [
              0,
              "#0d0887"
             ],
             [
              0.1111111111111111,
              "#46039f"
             ],
             [
              0.2222222222222222,
              "#7201a8"
             ],
             [
              0.3333333333333333,
              "#9c179e"
             ],
             [
              0.4444444444444444,
              "#bd3786"
             ],
             [
              0.5555555555555556,
              "#d8576b"
             ],
             [
              0.6666666666666666,
              "#ed7953"
             ],
             [
              0.7777777777777778,
              "#fb9f3a"
             ],
             [
              0.8888888888888888,
              "#fdca26"
             ],
             [
              1,
              "#f0f921"
             ]
            ],
            "type": "histogram2d"
           }
          ],
          "histogram2dcontour": [
           {
            "colorbar": {
             "outlinewidth": 0,
             "ticks": ""
            },
            "colorscale": [
             [
              0,
              "#0d0887"
             ],
             [
              0.1111111111111111,
              "#46039f"
             ],
             [
              0.2222222222222222,
              "#7201a8"
             ],
             [
              0.3333333333333333,
              "#9c179e"
             ],
             [
              0.4444444444444444,
              "#bd3786"
             ],
             [
              0.5555555555555556,
              "#d8576b"
             ],
             [
              0.6666666666666666,
              "#ed7953"
             ],
             [
              0.7777777777777778,
              "#fb9f3a"
             ],
             [
              0.8888888888888888,
              "#fdca26"
             ],
             [
              1,
              "#f0f921"
             ]
            ],
            "type": "histogram2dcontour"
           }
          ],
          "mesh3d": [
           {
            "colorbar": {
             "outlinewidth": 0,
             "ticks": ""
            },
            "type": "mesh3d"
           }
          ],
          "parcoords": [
           {
            "line": {
             "colorbar": {
              "outlinewidth": 0,
              "ticks": ""
             }
            },
            "type": "parcoords"
           }
          ],
          "pie": [
           {
            "automargin": true,
            "type": "pie"
           }
          ],
          "scatter": [
           {
            "fillpattern": {
             "fillmode": "overlay",
             "size": 10,
             "solidity": 0.2
            },
            "type": "scatter"
           }
          ],
          "scatter3d": [
           {
            "line": {
             "colorbar": {
              "outlinewidth": 0,
              "ticks": ""
             }
            },
            "marker": {
             "colorbar": {
              "outlinewidth": 0,
              "ticks": ""
             }
            },
            "type": "scatter3d"
           }
          ],
          "scattercarpet": [
           {
            "marker": {
             "colorbar": {
              "outlinewidth": 0,
              "ticks": ""
             }
            },
            "type": "scattercarpet"
           }
          ],
          "scattergeo": [
           {
            "marker": {
             "colorbar": {
              "outlinewidth": 0,
              "ticks": ""
             }
            },
            "type": "scattergeo"
           }
          ],
          "scattergl": [
           {
            "marker": {
             "colorbar": {
              "outlinewidth": 0,
              "ticks": ""
             }
            },
            "type": "scattergl"
           }
          ],
          "scattermapbox": [
           {
            "marker": {
             "colorbar": {
              "outlinewidth": 0,
              "ticks": ""
             }
            },
            "type": "scattermapbox"
           }
          ],
          "scatterpolar": [
           {
            "marker": {
             "colorbar": {
              "outlinewidth": 0,
              "ticks": ""
             }
            },
            "type": "scatterpolar"
           }
          ],
          "scatterpolargl": [
           {
            "marker": {
             "colorbar": {
              "outlinewidth": 0,
              "ticks": ""
             }
            },
            "type": "scatterpolargl"
           }
          ],
          "scatterternary": [
           {
            "marker": {
             "colorbar": {
              "outlinewidth": 0,
              "ticks": ""
             }
            },
            "type": "scatterternary"
           }
          ],
          "surface": [
           {
            "colorbar": {
             "outlinewidth": 0,
             "ticks": ""
            },
            "colorscale": [
             [
              0,
              "#0d0887"
             ],
             [
              0.1111111111111111,
              "#46039f"
             ],
             [
              0.2222222222222222,
              "#7201a8"
             ],
             [
              0.3333333333333333,
              "#9c179e"
             ],
             [
              0.4444444444444444,
              "#bd3786"
             ],
             [
              0.5555555555555556,
              "#d8576b"
             ],
             [
              0.6666666666666666,
              "#ed7953"
             ],
             [
              0.7777777777777778,
              "#fb9f3a"
             ],
             [
              0.8888888888888888,
              "#fdca26"
             ],
             [
              1,
              "#f0f921"
             ]
            ],
            "type": "surface"
           }
          ],
          "table": [
           {
            "cells": {
             "fill": {
              "color": "#EBF0F8"
             },
             "line": {
              "color": "white"
             }
            },
            "header": {
             "fill": {
              "color": "#C8D4E3"
             },
             "line": {
              "color": "white"
             }
            },
            "type": "table"
           }
          ]
         },
         "layout": {
          "annotationdefaults": {
           "arrowcolor": "#2a3f5f",
           "arrowhead": 0,
           "arrowwidth": 1
          },
          "autotypenumbers": "strict",
          "coloraxis": {
           "colorbar": {
            "outlinewidth": 0,
            "ticks": ""
           }
          },
          "colorscale": {
           "diverging": [
            [
             0,
             "#8e0152"
            ],
            [
             0.1,
             "#c51b7d"
            ],
            [
             0.2,
             "#de77ae"
            ],
            [
             0.3,
             "#f1b6da"
            ],
            [
             0.4,
             "#fde0ef"
            ],
            [
             0.5,
             "#f7f7f7"
            ],
            [
             0.6,
             "#e6f5d0"
            ],
            [
             0.7,
             "#b8e186"
            ],
            [
             0.8,
             "#7fbc41"
            ],
            [
             0.9,
             "#4d9221"
            ],
            [
             1,
             "#276419"
            ]
           ],
           "sequential": [
            [
             0,
             "#0d0887"
            ],
            [
             0.1111111111111111,
             "#46039f"
            ],
            [
             0.2222222222222222,
             "#7201a8"
            ],
            [
             0.3333333333333333,
             "#9c179e"
            ],
            [
             0.4444444444444444,
             "#bd3786"
            ],
            [
             0.5555555555555556,
             "#d8576b"
            ],
            [
             0.6666666666666666,
             "#ed7953"
            ],
            [
             0.7777777777777778,
             "#fb9f3a"
            ],
            [
             0.8888888888888888,
             "#fdca26"
            ],
            [
             1,
             "#f0f921"
            ]
           ],
           "sequentialminus": [
            [
             0,
             "#0d0887"
            ],
            [
             0.1111111111111111,
             "#46039f"
            ],
            [
             0.2222222222222222,
             "#7201a8"
            ],
            [
             0.3333333333333333,
             "#9c179e"
            ],
            [
             0.4444444444444444,
             "#bd3786"
            ],
            [
             0.5555555555555556,
             "#d8576b"
            ],
            [
             0.6666666666666666,
             "#ed7953"
            ],
            [
             0.7777777777777778,
             "#fb9f3a"
            ],
            [
             0.8888888888888888,
             "#fdca26"
            ],
            [
             1,
             "#f0f921"
            ]
           ]
          },
          "colorway": [
           "#636efa",
           "#EF553B",
           "#00cc96",
           "#ab63fa",
           "#FFA15A",
           "#19d3f3",
           "#FF6692",
           "#B6E880",
           "#FF97FF",
           "#FECB52"
          ],
          "font": {
           "color": "#2a3f5f"
          },
          "geo": {
           "bgcolor": "white",
           "lakecolor": "white",
           "landcolor": "#E5ECF6",
           "showlakes": true,
           "showland": true,
           "subunitcolor": "white"
          },
          "hoverlabel": {
           "align": "left"
          },
          "hovermode": "closest",
          "mapbox": {
           "style": "light"
          },
          "paper_bgcolor": "white",
          "plot_bgcolor": "#E5ECF6",
          "polar": {
           "angularaxis": {
            "gridcolor": "white",
            "linecolor": "white",
            "ticks": ""
           },
           "bgcolor": "#E5ECF6",
           "radialaxis": {
            "gridcolor": "white",
            "linecolor": "white",
            "ticks": ""
           }
          },
          "scene": {
           "xaxis": {
            "backgroundcolor": "#E5ECF6",
            "gridcolor": "white",
            "gridwidth": 2,
            "linecolor": "white",
            "showbackground": true,
            "ticks": "",
            "zerolinecolor": "white"
           },
           "yaxis": {
            "backgroundcolor": "#E5ECF6",
            "gridcolor": "white",
            "gridwidth": 2,
            "linecolor": "white",
            "showbackground": true,
            "ticks": "",
            "zerolinecolor": "white"
           },
           "zaxis": {
            "backgroundcolor": "#E5ECF6",
            "gridcolor": "white",
            "gridwidth": 2,
            "linecolor": "white",
            "showbackground": true,
            "ticks": "",
            "zerolinecolor": "white"
           }
          },
          "shapedefaults": {
           "line": {
            "color": "#2a3f5f"
           }
          },
          "ternary": {
           "aaxis": {
            "gridcolor": "white",
            "linecolor": "white",
            "ticks": ""
           },
           "baxis": {
            "gridcolor": "white",
            "linecolor": "white",
            "ticks": ""
           },
           "bgcolor": "#E5ECF6",
           "caxis": {
            "gridcolor": "white",
            "linecolor": "white",
            "ticks": ""
           }
          },
          "title": {
           "x": 0.05
          },
          "xaxis": {
           "automargin": true,
           "gridcolor": "white",
           "linecolor": "white",
           "ticks": "",
           "title": {
            "standoff": 15
           },
           "zerolinecolor": "white",
           "zerolinewidth": 2
          },
          "yaxis": {
           "automargin": true,
           "gridcolor": "white",
           "linecolor": "white",
           "ticks": "",
           "title": {
            "standoff": 15
           },
           "zerolinecolor": "white",
           "zerolinewidth": 2
          }
         }
        },
        "width": 500,
        "xaxis": {
         "autorange": false,
         "exponentformat": "e",
         "linecolor": "black",
         "linewidth": 1,
         "mirror": false,
         "range": [
          -0.033311727046966555,
          1.6988980793952941
         ],
         "showexponent": "all",
         "showline": true,
         "side": "bottom",
         "ticks": "outside",
         "title": {
          "text": "Birth"
         },
         "type": "linear",
         "zeroline": true
        },
        "yaxis": {
         "autorange": false,
         "exponentformat": "e",
         "linecolor": "black",
         "linewidth": 1,
         "mirror": false,
         "range": [
          -0.033311727046966555,
          1.6988980793952941
         ],
         "scaleanchor": "x",
         "scaleratio": 1,
         "showexponent": "all",
         "showline": true,
         "side": "left",
         "ticks": "outside",
         "title": {
          "text": "Death"
         },
         "type": "linear",
         "zeroline": true
        }
       }
      }
     },
     "metadata": {},
     "output_type": "display_data"
    }
   ],
   "source": [
    "mi_tda = AnalisisTDA(embedding_type = \"STK\", univariate = True, option_uni = 2)\n",
    "# X_univariate = df[\"price\"].values\n",
    "\n",
    "X_univariate = decomposition.seasonal.values\n",
    "\n",
    "# homologia_persistente(self, datos, embedding_dimension = 2, embedding_time_delay = 1, window_size = 100,  stride = 4)\n",
    "embedding_dimension = 5\n",
    "embedding_time_delay = 1\n",
    "stride = 1\n",
    "diagrama_real, features, plot_cloud = mi_tda.homologia_persistente(X_univariate, embedding_dimension = embedding_dimension, embedding_time_delay = embedding_time_delay, window_size = 100,  stride = stride)\n",
    "\n",
    "# plots\n",
    "plot_diagram(diagrama_real)"
   ]
  },
  {
   "cell_type": "markdown",
   "id": "a00a1431",
   "metadata": {},
   "source": [
    "![alt text](imgs/pers_d_real.png \"Title\")"
   ]
  },
  {
   "cell_type": "code",
   "execution_count": 90,
   "id": "dd2d1c9a",
   "metadata": {},
   "outputs": [
    {
     "data": {
      "text/plain": [
       "((123, 3), (119, 3))"
      ]
     },
     "execution_count": 90,
     "metadata": {},
     "output_type": "execute_result"
    }
   ],
   "source": [
    "diagrama_sint.shape, diagrama_real[:119].shape"
   ]
  },
  {
   "cell_type": "markdown",
   "id": "c6972b8c",
   "metadata": {},
   "source": [
    "### ESTACIONALIDAD: Serie Real vs Simulada"
   ]
  },
  {
   "cell_type": "code",
   "execution_count": 91,
   "id": "df7bc830",
   "metadata": {},
   "outputs": [
    {
     "data": {
      "image/png": "[encoded data removed]",
      "text/plain": [
       "<Figure size 1200x600 with 1 Axes>"
      ]
     },
     "metadata": {},
     "output_type": "display_data"
    }
   ],
   "source": [
    "plt.figure(figsize=(12, 6))\n",
    "plt.plot(decomposition.seasonal, color = \"dodgerblue\", label='Real')\n",
    "plt.plot(df_for_pers_dgms['precio_frambuesa'], label='Sintético', alpha = 0.5)\n",
    "plt.title('Precios')\n",
    "plt.xlabel('Fecha')\n",
    "plt.ylabel('Precio MXN')\n",
    "# plt.yscale(\"log\")\n",
    "plt.legend()\n",
    "#plt.grid(True)\n",
    "plt.show()"
   ]
  },
  {
   "cell_type": "markdown",
   "id": "64d063b8",
   "metadata": {},
   "source": [
    "# Distancia entre diagrama de persistencia de datos reales vs sintética"
   ]
  },
  {
   "cell_type": "code",
   "execution_count": 92,
   "id": "b344593a",
   "metadata": {},
   "outputs": [],
   "source": [
    "import numpy as np\n",
    "\n",
    "def pad_diagrams(diag1, diag2, dim):\n",
    "    d1 = diag1[diag1[:, 2] == dim]\n",
    "    d2 = diag2[diag2[:, 2] == dim]\n",
    "    \n",
    "    len1, len2 = len(d1), len(d2)\n",
    "\n",
    "    if len1 < len2:\n",
    "        padding = np.array([[0.0, 0.0, dim]] * (len2 - len1))\n",
    "        d1 = np.vstack([d1, padding])\n",
    "    elif len2 < len1:\n",
    "        padding = np.array([[0.0, 0.0, dim]] * (len1 - len2))\n",
    "        d2 = np.vstack([d2, padding])\n",
    "        \n",
    "    # También devolvemos las otras dimensiones sin cambios\n",
    "    rest1 = diag1[diag1[:, 2] != dim]\n",
    "    rest2 = diag2[diag2[:, 2] != dim]\n",
    "\n",
    "    diag1_padded = np.vstack([d1, rest1])\n",
    "    diag2_padded = np.vstack([d2, rest2])\n",
    "\n",
    "    return diag1_padded, diag2_padded\n"
   ]
  },
  {
   "cell_type": "code",
   "execution_count": 93,
   "id": "f3e5d5e0",
   "metadata": {},
   "outputs": [],
   "source": [
    "def pad_all_dimensions(d1, d2):\n",
    "    dims = set(np.unique(d1[:, 2])).union(set(np.unique(d2[:, 2])))\n",
    "    for dim in dims:\n",
    "        d1, d2 = pad_diagrams(d1, d2, dim)\n",
    "    return d1, d2\n"
   ]
  },
  {
   "cell_type": "code",
   "execution_count": 94,
   "id": "09948d43",
   "metadata": {},
   "outputs": [
    {
     "name": "stdout",
     "output_type": "stream",
     "text": [
      "Distancia Wasserstein: 6.273994523594555\n"
     ]
    }
   ],
   "source": [
    "# Padding en todas las dimensiones\n",
    "d1_padded, d2_padded = pad_all_dimensions(diagrama_sint, diagrama_real[:119])\n",
    "\n",
    "# Asegúrate que ambos tengan misma forma\n",
    "assert d1_padded.shape == d2_padded.shape, \"Los diagramas no tienen la misma forma tras el padding\"\n",
    "\n",
    "# Forma final requerida por PairwiseDistance\n",
    "diagrams_array = np.array([d1_padded, d2_padded])  # shape (2, n_points, 3)\n",
    "\n",
    "from gtda.diagrams import PairwiseDistance\n",
    "dist = PairwiseDistance(metric=\"wasserstein\")\n",
    "result = dist.fit_transform(diagrams_array)[0, 1]\n",
    "\n",
    "print(\"Distancia Wasserstein:\", result)\n"
   ]
  },
  {
   "cell_type": "markdown",
   "id": "17e7a363",
   "metadata": {},
   "source": [
    "# Comparación vs línea recta (relevancia de la distancia)"
   ]
  },
  {
   "cell_type": "markdown",
   "id": "802eadcf",
   "metadata": {},
   "source": [
    "### Línea Recta"
   ]
  },
  {
   "cell_type": "code",
   "execution_count": 95,
   "id": "265d713b",
   "metadata": {},
   "outputs": [
    {
     "data": {
      "application/vnd.plotly.v1+json": {
       "config": {
        "plotlyServerURL": "https://plot.ly"
       },
       "data": [
        {
         "hoverinfo": "none",
         "line": {
          "color": "black",
          "dash": "dash",
          "width": 1
         },
         "mode": "lines",
         "showlegend": false,
         "type": "scatter",
         "x": [
          -0.08485280990600585,
          4.327493305206299
         ],
         "y": [
          -0.08485280990600585,
          4.327493305206299
         ]
        },
        {
         "hoverinfo": "text",
         "hovertext": [
          "(0.0, 4.242640495300293), multiplicity: 99",
          "(0.0, 4.242640495300293), multiplicity: 99",
          "(0.0, 4.242640495300293), multiplicity: 99",
          "(0.0, 4.242640495300293), multiplicity: 99",
          "(0.0, 4.242640495300293), multiplicity: 99",
          "(0.0, 4.242640495300293), multiplicity: 99",
          "(0.0, 4.242640495300293), multiplicity: 99",
          "(0.0, 4.242640495300293), multiplicity: 99",
          "(0.0, 4.242640495300293), multiplicity: 99",
          "(0.0, 4.242640495300293), multiplicity: 99",
          "(0.0, 4.242640495300293), multiplicity: 99",
          "(0.0, 4.242640495300293), multiplicity: 99",
          "(0.0, 4.242640495300293), multiplicity: 99",
          "(0.0, 4.242640495300293), multiplicity: 99",
          "(0.0, 4.242640495300293), multiplicity: 99",
          "(0.0, 4.242640495300293), multiplicity: 99",
          "(0.0, 4.242640495300293), multiplicity: 99",
          "(0.0, 4.242640495300293), multiplicity: 99",
          "(0.0, 4.242640495300293), multiplicity: 99",
          "(0.0, 4.242640495300293), multiplicity: 99",
          "(0.0, 4.242640495300293), multiplicity: 99",
          "(0.0, 4.242640495300293), multiplicity: 99",
          "(0.0, 4.242640495300293), multiplicity: 99",
          "(0.0, 4.242640495300293), multiplicity: 99",
          "(0.0, 4.242640495300293), multiplicity: 99",
          "(0.0, 4.242640495300293), multiplicity: 99",
          "(0.0, 4.242640495300293), multiplicity: 99",
          "(0.0, 4.242640495300293), multiplicity: 99",
          "(0.0, 4.242640495300293), multiplicity: 99",
          "(0.0, 4.242640495300293), multiplicity: 99",
          "(0.0, 4.242640495300293), multiplicity: 99",
          "(0.0, 4.242640495300293), multiplicity: 99",
          "(0.0, 4.242640495300293), multiplicity: 99",
          "(0.0, 4.242640495300293), multiplicity: 99",
          "(0.0, 4.242640495300293), multiplicity: 99",
          "(0.0, 4.242640495300293), multiplicity: 99",
          "(0.0, 4.242640495300293), multiplicity: 99",
          "(0.0, 4.242640495300293), multiplicity: 99",
          "(0.0, 4.242640495300293), multiplicity: 99",
          "(0.0, 4.242640495300293), multiplicity: 99",
          "(0.0, 4.242640495300293), multiplicity: 99",
          "(0.0, 4.242640495300293), multiplicity: 99",
          "(0.0, 4.242640495300293), multiplicity: 99",
          "(0.0, 4.242640495300293), multiplicity: 99",
          "(0.0, 4.242640495300293), multiplicity: 99",
          "(0.0, 4.242640495300293), multiplicity: 99",
          "(0.0, 4.242640495300293), multiplicity: 99",
          "(0.0, 4.242640495300293), multiplicity: 99",
          "(0.0, 4.242640495300293), multiplicity: 99",
          "(0.0, 4.242640495300293), multiplicity: 99",
          "(0.0, 4.242640495300293), multiplicity: 99",
          "(0.0, 4.242640495300293), multiplicity: 99",
          "(0.0, 4.242640495300293), multiplicity: 99",
          "(0.0, 4.242640495300293), multiplicity: 99",
          "(0.0, 4.242640495300293), multiplicity: 99",
          "(0.0, 4.242640495300293), multiplicity: 99",
          "(0.0, 4.242640495300293), multiplicity: 99",
          "(0.0, 4.242640495300293), multiplicity: 99",
          "(0.0, 4.242640495300293), multiplicity: 99",
          "(0.0, 4.242640495300293), multiplicity: 99",
          "(0.0, 4.242640495300293), multiplicity: 99",
          "(0.0, 4.242640495300293), multiplicity: 99",
          "(0.0, 4.242640495300293), multiplicity: 99",
          "(0.0, 4.242640495300293), multiplicity: 99",
          "(0.0, 4.242640495300293), multiplicity: 99",
          "(0.0, 4.242640495300293), multiplicity: 99",
          "(0.0, 4.242640495300293), multiplicity: 99",
          "(0.0, 4.242640495300293), multiplicity: 99",
          "(0.0, 4.242640495300293), multiplicity: 99",
          "(0.0, 4.242640495300293), multiplicity: 99",
          "(0.0, 4.242640495300293), multiplicity: 99",
          "(0.0, 4.242640495300293), multiplicity: 99",
          "(0.0, 4.242640495300293), multiplicity: 99",
          "(0.0, 4.242640495300293), multiplicity: 99",
          "(0.0, 4.242640495300293), multiplicity: 99",
          "(0.0, 4.242640495300293), multiplicity: 99",
          "(0.0, 4.242640495300293), multiplicity: 99",
          "(0.0, 4.242640495300293), multiplicity: 99",
          "(0.0, 4.242640495300293), multiplicity: 99",
          "(0.0, 4.242640495300293), multiplicity: 99",
          "(0.0, 4.242640495300293), multiplicity: 99",
          "(0.0, 4.242640495300293), multiplicity: 99",
          "(0.0, 4.242640495300293), multiplicity: 99",
          "(0.0, 4.242640495300293), multiplicity: 99",
          "(0.0, 4.242640495300293), multiplicity: 99",
          "(0.0, 4.242640495300293), multiplicity: 99",
          "(0.0, 4.242640495300293), multiplicity: 99",
          "(0.0, 4.242640495300293), multiplicity: 99",
          "(0.0, 4.242640495300293), multiplicity: 99",
          "(0.0, 4.242640495300293), multiplicity: 99",
          "(0.0, 4.242640495300293), multiplicity: 99",
          "(0.0, 4.242640495300293), multiplicity: 99",
          "(0.0, 4.242640495300293), multiplicity: 99",
          "(0.0, 4.242640495300293), multiplicity: 99",
          "(0.0, 4.242640495300293), multiplicity: 99",
          "(0.0, 4.242640495300293), multiplicity: 99",
          "(0.0, 4.242640495300293), multiplicity: 99",
          "(0.0, 4.242640495300293), multiplicity: 99",
          "(0.0, 4.242640495300293), multiplicity: 99"
         ],
         "mode": "markers",
         "name": "H0",
         "type": "scatter",
         "x": [
          0,
          0,
          0,
          0,
          0,
          0,
          0,
          0,
          0,
          0,
          0,
          0,
          0,
          0,
          0,
          0,
          0,
          0,
          0,
          0,
          0,
          0,
          0,
          0,
          0,
          0,
          0,
          0,
          0,
          0,
          0,
          0,
          0,
          0,
          0,
          0,
          0,
          0,
          0,
          0,
          0,
          0,
          0,
          0,
          0,
          0,
          0,
          0,
          0,
          0,
          0,
          0,
          0,
          0,
          0,
          0,
          0,
          0,
          0,
          0,
          0,
          0,
          0,
          0,
          0,
          0,
          0,
          0,
          0,
          0,
          0,
          0,
          0,
          0,
          0,
          0,
          0,
          0,
          0,
          0,
          0,
          0,
          0,
          0,
          0,
          0,
          0,
          0,
          0,
          0,
          0,
          0,
          0,
          0,
          0,
          0,
          0,
          0,
          0
         ],
         "y": [
          4.242640495300293,
          4.242640495300293,
          4.242640495300293,
          4.242640495300293,
          4.242640495300293,
          4.242640495300293,
          4.242640495300293,
          4.242640495300293,
          4.242640495300293,
          4.242640495300293,
          4.242640495300293,
          4.242640495300293,
          4.242640495300293,
          4.242640495300293,
          4.242640495300293,
          4.242640495300293,
          4.242640495300293,
          4.242640495300293,
          4.242640495300293,
          4.242640495300293,
          4.242640495300293,
          4.242640495300293,
          4.242640495300293,
          4.242640495300293,
          4.242640495300293,
          4.242640495300293,
          4.242640495300293,
          4.242640495300293,
          4.242640495300293,
          4.242640495300293,
          4.242640495300293,
          4.242640495300293,
          4.242640495300293,
          4.242640495300293,
          4.242640495300293,
          4.242640495300293,
          4.242640495300293,
          4.242640495300293,
          4.242640495300293,
          4.242640495300293,
          4.242640495300293,
          4.242640495300293,
          4.242640495300293,
          4.242640495300293,
          4.242640495300293,
          4.242640495300293,
          4.242640495300293,
          4.242640495300293,
          4.242640495300293,
          4.242640495300293,
          4.242640495300293,
          4.242640495300293,
          4.242640495300293,
          4.242640495300293,
          4.242640495300293,
          4.242640495300293,
          4.242640495300293,
          4.242640495300293,
          4.242640495300293,
          4.242640495300293,
          4.242640495300293,
          4.242640495300293,
          4.242640495300293,
          4.242640495300293,
          4.242640495300293,
          4.242640495300293,
          4.242640495300293,
          4.242640495300293,
          4.242640495300293,
          4.242640495300293,
          4.242640495300293,
          4.242640495300293,
          4.242640495300293,
          4.242640495300293,
          4.242640495300293,
          4.242640495300293,
          4.242640495300293,
          4.242640495300293,
          4.242640495300293,
          4.242640495300293,
          4.242640495300293,
          4.242640495300293,
          4.242640495300293,
          4.242640495300293,
          4.242640495300293,
          4.242640495300293,
          4.242640495300293,
          4.242640495300293,
          4.242640495300293,
          4.242640495300293,
          4.242640495300293,
          4.242640495300293,
          4.242640495300293,
          4.242640495300293,
          4.242640495300293,
          4.242640495300293,
          4.242640495300293,
          4.242640495300293,
          4.242640495300293
         ]
        },
        {
         "hoverinfo": "text",
         "hovertext": [],
         "mode": "markers",
         "name": "H1",
         "type": "scatter",
         "x": [],
         "y": []
        },
        {
         "hoverinfo": "text",
         "hovertext": [],
         "mode": "markers",
         "name": "H2",
         "type": "scatter",
         "x": [],
         "y": []
        }
       ],
       "layout": {
        "height": 500,
        "plot_bgcolor": "white",
        "template": {
         "data": {
          "bar": [
           {
            "error_x": {
             "color": "#2a3f5f"
            },
            "error_y": {
             "color": "#2a3f5f"
            },
            "marker": {
             "line": {
              "color": "#E5ECF6",
              "width": 0.5
             },
             "pattern": {
              "fillmode": "overlay",
              "size": 10,
              "solidity": 0.2
             }
            },
            "type": "bar"
           }
          ],
          "barpolar": [
           {
            "marker": {
             "line": {
              "color": "#E5ECF6",
              "width": 0.5
             },
             "pattern": {
              "fillmode": "overlay",
              "size": 10,
              "solidity": 0.2
             }
            },
            "type": "barpolar"
           }
          ],
          "carpet": [
           {
            "aaxis": {
             "endlinecolor": "#2a3f5f",
             "gridcolor": "white",
             "linecolor": "white",
             "minorgridcolor": "white",
             "startlinecolor": "#2a3f5f"
            },
            "baxis": {
             "endlinecolor": "#2a3f5f",
             "gridcolor": "white",
             "linecolor": "white",
             "minorgridcolor": "white",
             "startlinecolor": "#2a3f5f"
            },
            "type": "carpet"
           }
          ],
          "choropleth": [
           {
            "colorbar": {
             "outlinewidth": 0,
             "ticks": ""
            },
            "type": "choropleth"
           }
          ],
          "contour": [
           {
            "colorbar": {
             "outlinewidth": 0,
             "ticks": ""
            },
            "colorscale": [
             [
              0,
              "#0d0887"
             ],
             [
              0.1111111111111111,
              "#46039f"
             ],
             [
              0.2222222222222222,
              "#7201a8"
             ],
             [
              0.3333333333333333,
              "#9c179e"
             ],
             [
              0.4444444444444444,
              "#bd3786"
             ],
             [
              0.5555555555555556,
              "#d8576b"
             ],
             [
              0.6666666666666666,
              "#ed7953"
             ],
             [
              0.7777777777777778,
              "#fb9f3a"
             ],
             [
              0.8888888888888888,
              "#fdca26"
             ],
             [
              1,
              "#f0f921"
             ]
            ],
            "type": "contour"
           }
          ],
          "contourcarpet": [
           {
            "colorbar": {
             "outlinewidth": 0,
             "ticks": ""
            },
            "type": "contourcarpet"
           }
          ],
          "heatmap": [
           {
            "colorbar": {
             "outlinewidth": 0,
             "ticks": ""
            },
            "colorscale": [
             [
              0,
              "#0d0887"
             ],
             [
              0.1111111111111111,
              "#46039f"
             ],
             [
              0.2222222222222222,
              "#7201a8"
             ],
             [
              0.3333333333333333,
              "#9c179e"
             ],
             [
              0.4444444444444444,
              "#bd3786"
             ],
             [
              0.5555555555555556,
              "#d8576b"
             ],
             [
              0.6666666666666666,
              "#ed7953"
             ],
             [
              0.7777777777777778,
              "#fb9f3a"
             ],
             [
              0.8888888888888888,
              "#fdca26"
             ],
             [
              1,
              "#f0f921"
             ]
            ],
            "type": "heatmap"
           }
          ],
          "heatmapgl": [
           {
            "colorbar": {
             "outlinewidth": 0,
             "ticks": ""
            },
            "colorscale": [
             [
              0,
              "#0d0887"
             ],
             [
              0.1111111111111111,
              "#46039f"
             ],
             [
              0.2222222222222222,
              "#7201a8"
             ],
             [
              0.3333333333333333,
              "#9c179e"
             ],
             [
              0.4444444444444444,
              "#bd3786"
             ],
             [
              0.5555555555555556,
              "#d8576b"
             ],
             [
              0.6666666666666666,
              "#ed7953"
             ],
             [
              0.7777777777777778,
              "#fb9f3a"
             ],
             [
              0.8888888888888888,
              "#fdca26"
             ],
             [
              1,
              "#f0f921"
             ]
            ],
            "type": "heatmapgl"
           }
          ],
          "histogram": [
           {
            "marker": {
             "pattern": {
              "fillmode": "overlay",
              "size": 10,
              "solidity": 0.2
             }
            },
            "type": "histogram"
           }
          ],
          "histogram2d": [
           {
            "colorbar": {
             "outlinewidth": 0,
             "ticks": ""
            },
            "colorscale": [
             [
              0,
              "#0d0887"
             ],
             [
              0.1111111111111111,
              "#46039f"
             ],
             [
              0.2222222222222222,
              "#7201a8"
             ],
             [
              0.3333333333333333,
              "#9c179e"
             ],
             [
              0.4444444444444444,
              "#bd3786"
             ],
             [
              0.5555555555555556,
              "#d8576b"
             ],
             [
              0.6666666666666666,
              "#ed7953"
             ],
             [
              0.7777777777777778,
              "#fb9f3a"
             ],
             [
              0.8888888888888888,
              "#fdca26"
             ],
             [
              1,
              "#f0f921"
             ]
            ],
            "type": "histogram2d"
           }
          ],
          "histogram2dcontour": [
           {
            "colorbar": {
             "outlinewidth": 0,
             "ticks": ""
            },
            "colorscale": [
             [
              0,
              "#0d0887"
             ],
             [
              0.1111111111111111,
              "#46039f"
             ],
             [
              0.2222222222222222,
              "#7201a8"
             ],
             [
              0.3333333333333333,
              "#9c179e"
             ],
             [
              0.4444444444444444,
              "#bd3786"
             ],
             [
              0.5555555555555556,
              "#d8576b"
             ],
             [
              0.6666666666666666,
              "#ed7953"
             ],
             [
              0.7777777777777778,
              "#fb9f3a"
             ],
             [
              0.8888888888888888,
              "#fdca26"
             ],
             [
              1,
              "#f0f921"
             ]
            ],
            "type": "histogram2dcontour"
           }
          ],
          "mesh3d": [
           {
            "colorbar": {
             "outlinewidth": 0,
             "ticks": ""
            },
            "type": "mesh3d"
           }
          ],
          "parcoords": [
           {
            "line": {
             "colorbar": {
              "outlinewidth": 0,
              "ticks": ""
             }
            },
            "type": "parcoords"
           }
          ],
          "pie": [
           {
            "automargin": true,
            "type": "pie"
           }
          ],
          "scatter": [
           {
            "fillpattern": {
             "fillmode": "overlay",
             "size": 10,
             "solidity": 0.2
            },
            "type": "scatter"
           }
          ],
          "scatter3d": [
           {
            "line": {
             "colorbar": {
              "outlinewidth": 0,
              "ticks": ""
             }
            },
            "marker": {
             "colorbar": {
              "outlinewidth": 0,
              "ticks": ""
             }
            },
            "type": "scatter3d"
           }
          ],
          "scattercarpet": [
           {
            "marker": {
             "colorbar": {
              "outlinewidth": 0,
              "ticks": ""
             }
            },
            "type": "scattercarpet"
           }
          ],
          "scattergeo": [
           {
            "marker": {
             "colorbar": {
              "outlinewidth": 0,
              "ticks": ""
             }
            },
            "type": "scattergeo"
           }
          ],
          "scattergl": [
           {
            "marker": {
             "colorbar": {
              "outlinewidth": 0,
              "ticks": ""
             }
            },
            "type": "scattergl"
           }
          ],
          "scattermapbox": [
           {
            "marker": {
             "colorbar": {
              "outlinewidth": 0,
              "ticks": ""
             }
            },
            "type": "scattermapbox"
           }
          ],
          "scatterpolar": [
           {
            "marker": {
             "colorbar": {
              "outlinewidth": 0,
              "ticks": ""
             }
            },
            "type": "scatterpolar"
           }
          ],
          "scatterpolargl": [
           {
            "marker": {
             "colorbar": {
              "outlinewidth": 0,
              "ticks": ""
             }
            },
            "type": "scatterpolargl"
           }
          ],
          "scatterternary": [
           {
            "marker": {
             "colorbar": {
              "outlinewidth": 0,
              "ticks": ""
             }
            },
            "type": "scatterternary"
           }
          ],
          "surface": [
           {
            "colorbar": {
             "outlinewidth": 0,
             "ticks": ""
            },
            "colorscale": [
             [
              0,
              "#0d0887"
             ],
             [
              0.1111111111111111,
              "#46039f"
             ],
             [
              0.2222222222222222,
              "#7201a8"
             ],
             [
              0.3333333333333333,
              "#9c179e"
             ],
             [
              0.4444444444444444,
              "#bd3786"
             ],
             [
              0.5555555555555556,
              "#d8576b"
             ],
             [
              0.6666666666666666,
              "#ed7953"
             ],
             [
              0.7777777777777778,
              "#fb9f3a"
             ],
             [
              0.8888888888888888,
              "#fdca26"
             ],
             [
              1,
              "#f0f921"
             ]
            ],
            "type": "surface"
           }
          ],
          "table": [
           {
            "cells": {
             "fill": {
              "color": "#EBF0F8"
             },
             "line": {
              "color": "white"
             }
            },
            "header": {
             "fill": {
              "color": "#C8D4E3"
             },
             "line": {
              "color": "white"
             }
            },
            "type": "table"
           }
          ]
         },
         "layout": {
          "annotationdefaults": {
           "arrowcolor": "#2a3f5f",
           "arrowhead": 0,
           "arrowwidth": 1
          },
          "autotypenumbers": "strict",
          "coloraxis": {
           "colorbar": {
            "outlinewidth": 0,
            "ticks": ""
           }
          },
          "colorscale": {
           "diverging": [
            [
             0,
             "#8e0152"
            ],
            [
             0.1,
             "#c51b7d"
            ],
            [
             0.2,
             "#de77ae"
            ],
            [
             0.3,
             "#f1b6da"
            ],
            [
             0.4,
             "#fde0ef"
            ],
            [
             0.5,
             "#f7f7f7"
            ],
            [
             0.6,
             "#e6f5d0"
            ],
            [
             0.7,
             "#b8e186"
            ],
            [
             0.8,
             "#7fbc41"
            ],
            [
             0.9,
             "#4d9221"
            ],
            [
             1,
             "#276419"
            ]
           ],
           "sequential": [
            [
             0,
             "#0d0887"
            ],
            [
             0.1111111111111111,
             "#46039f"
            ],
            [
             0.2222222222222222,
             "#7201a8"
            ],
            [
             0.3333333333333333,
             "#9c179e"
            ],
            [
             0.4444444444444444,
             "#bd3786"
            ],
            [
             0.5555555555555556,
             "#d8576b"
            ],
            [
             0.6666666666666666,
             "#ed7953"
            ],
            [
             0.7777777777777778,
             "#fb9f3a"
            ],
            [
             0.8888888888888888,
             "#fdca26"
            ],
            [
             1,
             "#f0f921"
            ]
           ],
           "sequentialminus": [
            [
             0,
             "#0d0887"
            ],
            [
             0.1111111111111111,
             "#46039f"
            ],
            [
             0.2222222222222222,
             "#7201a8"
            ],
            [
             0.3333333333333333,
             "#9c179e"
            ],
            [
             0.4444444444444444,
             "#bd3786"
            ],
            [
             0.5555555555555556,
             "#d8576b"
            ],
            [
             0.6666666666666666,
             "#ed7953"
            ],
            [
             0.7777777777777778,
             "#fb9f3a"
            ],
            [
             0.8888888888888888,
             "#fdca26"
            ],
            [
             1,
             "#f0f921"
            ]
           ]
          },
          "colorway": [
           "#636efa",
           "#EF553B",
           "#00cc96",
           "#ab63fa",
           "#FFA15A",
           "#19d3f3",
           "#FF6692",
           "#B6E880",
           "#FF97FF",
           "#FECB52"
          ],
          "font": {
           "color": "#2a3f5f"
          },
          "geo": {
           "bgcolor": "white",
           "lakecolor": "white",
           "landcolor": "#E5ECF6",
           "showlakes": true,
           "showland": true,
           "subunitcolor": "white"
          },
          "hoverlabel": {
           "align": "left"
          },
          "hovermode": "closest",
          "mapbox": {
           "style": "light"
          },
          "paper_bgcolor": "white",
          "plot_bgcolor": "#E5ECF6",
          "polar": {
           "angularaxis": {
            "gridcolor": "white",
            "linecolor": "white",
            "ticks": ""
           },
           "bgcolor": "#E5ECF6",
           "radialaxis": {
            "gridcolor": "white",
            "linecolor": "white",
            "ticks": ""
           }
          },
          "scene": {
           "xaxis": {
            "backgroundcolor": "#E5ECF6",
            "gridcolor": "white",
            "gridwidth": 2,
            "linecolor": "white",
            "showbackground": true,
            "ticks": "",
            "zerolinecolor": "white"
           },
           "yaxis": {
            "backgroundcolor": "#E5ECF6",
            "gridcolor": "white",
            "gridwidth": 2,
            "linecolor": "white",
            "showbackground": true,
            "ticks": "",
            "zerolinecolor": "white"
           },
           "zaxis": {
            "backgroundcolor": "#E5ECF6",
            "gridcolor": "white",
            "gridwidth": 2,
            "linecolor": "white",
            "showbackground": true,
            "ticks": "",
            "zerolinecolor": "white"
           }
          },
          "shapedefaults": {
           "line": {
            "color": "#2a3f5f"
           }
          },
          "ternary": {
           "aaxis": {
            "gridcolor": "white",
            "linecolor": "white",
            "ticks": ""
           },
           "baxis": {
            "gridcolor": "white",
            "linecolor": "white",
            "ticks": ""
           },
           "bgcolor": "#E5ECF6",
           "caxis": {
            "gridcolor": "white",
            "linecolor": "white",
            "ticks": ""
           }
          },
          "title": {
           "x": 0.05
          },
          "xaxis": {
           "automargin": true,
           "gridcolor": "white",
           "linecolor": "white",
           "ticks": "",
           "title": {
            "standoff": 15
           },
           "zerolinecolor": "white",
           "zerolinewidth": 2
          },
          "yaxis": {
           "automargin": true,
           "gridcolor": "white",
           "linecolor": "white",
           "ticks": "",
           "title": {
            "standoff": 15
           },
           "zerolinecolor": "white",
           "zerolinewidth": 2
          }
         }
        },
        "width": 500,
        "xaxis": {
         "autorange": false,
         "exponentformat": "e",
         "linecolor": "black",
         "linewidth": 1,
         "mirror": false,
         "range": [
          -0.08485280990600585,
          4.327493305206299
         ],
         "showexponent": "all",
         "showline": true,
         "side": "bottom",
         "ticks": "outside",
         "title": {
          "text": "Birth"
         },
         "type": "linear",
         "zeroline": true
        },
        "yaxis": {
         "autorange": false,
         "exponentformat": "e",
         "linecolor": "black",
         "linewidth": 1,
         "mirror": false,
         "range": [
          -0.08485280990600585,
          4.327493305206299
         ],
         "scaleanchor": "x",
         "scaleratio": 1,
         "showexponent": "all",
         "showline": true,
         "side": "left",
         "ticks": "outside",
         "title": {
          "text": "Death"
         },
         "type": "linear",
         "zeroline": true
        }
       }
      }
     },
     "metadata": {},
     "output_type": "display_data"
    }
   ],
   "source": [
    "X_univariate = np.arange(1, 366, 1)\n",
    "\n",
    "# homologia_persistente(self, datos, embedding_dimension = 2, embedding_time_delay = 1, window_size = 100,  stride = 4)\n",
    "embedding_dimension = 10\n",
    "embedding_time_delay = 3\n",
    "stride = 3\n",
    "diagrama_linea_recta, _, _ = mi_tda.homologia_persistente(X_univariate, embedding_dimension = embedding_dimension, embedding_time_delay = embedding_time_delay, window_size = 100,  stride = stride)\n",
    "\n",
    "# plots\n",
    "plot_diagram(diagrama_linea_recta)"
   ]
  },
  {
   "cell_type": "markdown",
   "id": "fa4dbf8a",
   "metadata": {},
   "source": [
    "![alt text](imgs/pers_d_lr.png \"Title\")"
   ]
  },
  {
   "cell_type": "markdown",
   "id": "25971d37",
   "metadata": {},
   "source": [
    "### Distancia: Datos Reales vs Línea Recta"
   ]
  },
  {
   "cell_type": "code",
   "execution_count": 96,
   "id": "71e2b5d1",
   "metadata": {},
   "outputs": [
    {
     "name": "stdout",
     "output_type": "stream",
     "text": [
      "Distancia Wasserstein: 21.300409750540545\n"
     ]
    }
   ],
   "source": [
    "# Padding en todas las dimensiones\n",
    "d1_padded, d2_padded = pad_all_dimensions(diagrama_real, diagrama_linea_recta)\n",
    "\n",
    "# Asegúrate que ambos tengan misma forma\n",
    "assert d1_padded.shape == d2_padded.shape, \"Los diagramas no tienen la misma forma tras el padding\"\n",
    "\n",
    "# Forma final requerida por PairwiseDistance\n",
    "diagrams_array = np.array([d1_padded, d2_padded])  # shape (2, n_points, 3)\n",
    "\n",
    "from gtda.diagrams import PairwiseDistance\n",
    "dist = PairwiseDistance(metric=\"wasserstein\")\n",
    "result = dist.fit_transform(diagrams_array)[0, 1]\n",
    "\n",
    "print(\"Distancia Wasserstein:\", result)"
   ]
  },
  {
   "cell_type": "markdown",
   "id": "ed7cda0e",
   "metadata": {},
   "source": [
    "### Distancia: Datos Sintéticos vs Línea Recta"
   ]
  },
  {
   "cell_type": "code",
   "execution_count": 97,
   "id": "5c6c7959",
   "metadata": {},
   "outputs": [
    {
     "name": "stdout",
     "output_type": "stream",
     "text": [
      "Distancia Wasserstein: 20.21198691053966\n"
     ]
    }
   ],
   "source": [
    "# Padding en todas las dimensiones\n",
    "d1_padded, d2_padded = pad_all_dimensions(diagrama_sint, diagrama_linea_recta)\n",
    "\n",
    "# Asegúrate que ambos tengan misma forma\n",
    "assert d1_padded.shape == d2_padded.shape, \"Los diagramas no tienen la misma forma tras el padding\"\n",
    "\n",
    "# Forma final requerida por PairwiseDistance\n",
    "diagrams_array = np.array([d1_padded, d2_padded])  # shape (2, n_points, 3)\n",
    "\n",
    "from gtda.diagrams import PairwiseDistance\n",
    "dist = PairwiseDistance(metric=\"wasserstein\")\n",
    "result = dist.fit_transform(diagrams_array)[0, 1]\n",
    "\n",
    "print(\"Distancia Wasserstein:\", result)"
   ]
  },
  {
   "cell_type": "markdown",
   "id": "a7d151f2",
   "metadata": {},
   "source": [
    "Para comparar la estructura topológica de los datos simulados y reales, calculamos la distancia Wasserstein entre sus diagramas de persistencia, que representan la aparición y desaparición de características topológicas como componentes y ciclos. Esta distancia mide qué tan diferentes son estas estructuras entre ambos conjuntos. Un valor de 6.582 indica una diferencia moderada; mientras 0 significaría diagramas idénticos, valores más altos reflejan mayor discrepancia. Para calcular esta distancia, se ajustaron los diagramas agregando puntos triviales para que tuvieran igual cantidad de elementos en cada dimensión, requisito para la comparación."
   ]
  },
  {
   "cell_type": "markdown",
   "id": "70feeaeb",
   "metadata": {},
   "source": [
    "[ ] kmapper para eda explicarlo, motivación, que se interpreta del grafo\n",
    "\n",
    "[ ] Sliding windows - PCA (persistence dgms)\n",
    "\n",
    "[ ] Métricas de clasificadores\n",
    "\n",
    "[ ] Embeddings: X -> pipeline (takens) -> features \n",
    "\n",
    "[ ] Estadística: distribuciones de métricas y prueba de medias\n",
    "\n",
    "[ ] Hacer un análisis sobre la componente estacional de la serie de tiempo, asimilamos serie sintética a la real"
   ]
  }
 ],
 "metadata": {
  "kernelspec": {
   "display_name": ".venvandres",
   "language": "python",
   "name": "python3"
  },
  "language_info": {
   "codemirror_mode": {
    "name": "ipython",
    "version": 3
   },
   "file_extension": ".py",
   "mimetype": "text/x-python",
   "name": "python",
   "nbconvert_exporter": "python",
   "pygments_lexer": "ipython3",
   "version": "3.12.8"
  }
 },
 "nbformat": 4,
 "nbformat_minor": 5
}
